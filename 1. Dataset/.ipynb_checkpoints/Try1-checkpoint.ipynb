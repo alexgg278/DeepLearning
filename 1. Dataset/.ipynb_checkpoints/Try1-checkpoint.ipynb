{
 "cells": [
  {
   "cell_type": "code",
   "execution_count": 1,
   "metadata": {},
   "outputs": [],
   "source": [
    "import pandas as pd"
   ]
  },
  {
   "cell_type": "code",
   "execution_count": 2,
   "metadata": {},
   "outputs": [
    {
     "name": "stdout",
     "output_type": "stream",
     "text": [
      "Name of the label file: OceanProximityOneHotEncodedClasses.csv\n"
     ]
    }
   ],
   "source": [
    "ATT_FILE = \"OceanProximityPreparedCleanAttributes.csv\"\n",
    "LABEL_FILE = str(input(\"Name of the label file: \"))"
   ]
  },
  {
   "cell_type": "code",
   "execution_count": 3,
   "metadata": {},
   "outputs": [
    {
     "data": {
      "text/html": [
       "<div>\n",
       "<style scoped>\n",
       "    .dataframe tbody tr th:only-of-type {\n",
       "        vertical-align: middle;\n",
       "    }\n",
       "\n",
       "    .dataframe tbody tr th {\n",
       "        vertical-align: top;\n",
       "    }\n",
       "\n",
       "    .dataframe thead th {\n",
       "        text-align: right;\n",
       "    }\n",
       "</style>\n",
       "<table border=\"1\" class=\"dataframe\">\n",
       "  <thead>\n",
       "    <tr style=\"text-align: right;\">\n",
       "      <th></th>\n",
       "      <th>longitude</th>\n",
       "      <th>latitude</th>\n",
       "      <th>housing_median_age</th>\n",
       "      <th>total_rooms</th>\n",
       "      <th>total_bedrooms</th>\n",
       "      <th>population</th>\n",
       "      <th>households</th>\n",
       "      <th>median_income</th>\n",
       "      <th>median_house_value</th>\n",
       "    </tr>\n",
       "  </thead>\n",
       "  <tbody>\n",
       "    <tr>\n",
       "      <th>0</th>\n",
       "      <td>0.420319</td>\n",
       "      <td>-0.662062</td>\n",
       "      <td>-0.647059</td>\n",
       "      <td>-0.697391</td>\n",
       "      <td>-0.587523</td>\n",
       "      <td>-0.820567</td>\n",
       "      <td>-0.619142</td>\n",
       "      <td>-0.696390</td>\n",
       "      <td>-0.607420</td>\n",
       "    </tr>\n",
       "    <tr>\n",
       "      <th>1</th>\n",
       "      <td>0.430279</td>\n",
       "      <td>-0.980871</td>\n",
       "      <td>-0.019608</td>\n",
       "      <td>-0.917849</td>\n",
       "      <td>-0.913718</td>\n",
       "      <td>-0.846296</td>\n",
       "      <td>-0.918106</td>\n",
       "      <td>-0.581275</td>\n",
       "      <td>-0.783502</td>\n",
       "    </tr>\n",
       "    <tr>\n",
       "      <th>2</th>\n",
       "      <td>0.262948</td>\n",
       "      <td>-0.725824</td>\n",
       "      <td>-0.137255</td>\n",
       "      <td>-0.944860</td>\n",
       "      <td>-0.917132</td>\n",
       "      <td>-0.953922</td>\n",
       "      <td>-0.918106</td>\n",
       "      <td>-0.729521</td>\n",
       "      <td>-0.156288</td>\n",
       "    </tr>\n",
       "    <tr>\n",
       "      <th>3</th>\n",
       "      <td>-0.446215</td>\n",
       "      <td>-0.056323</td>\n",
       "      <td>-0.490196</td>\n",
       "      <td>-0.734015</td>\n",
       "      <td>-0.746741</td>\n",
       "      <td>-0.852518</td>\n",
       "      <td>-0.737543</td>\n",
       "      <td>-0.383415</td>\n",
       "      <td>0.091958</td>\n",
       "    </tr>\n",
       "    <tr>\n",
       "      <th>4</th>\n",
       "      <td>-0.392430</td>\n",
       "      <td>0.164718</td>\n",
       "      <td>-0.411765</td>\n",
       "      <td>-0.861895</td>\n",
       "      <td>-0.807573</td>\n",
       "      <td>-0.812775</td>\n",
       "      <td>-0.788851</td>\n",
       "      <td>-0.717604</td>\n",
       "      <td>-0.623503</td>\n",
       "    </tr>\n",
       "  </tbody>\n",
       "</table>\n",
       "</div>"
      ],
      "text/plain": [
       "   longitude  latitude  housing_median_age  total_rooms  total_bedrooms  \\\n",
       "0   0.420319 -0.662062           -0.647059    -0.697391       -0.587523   \n",
       "1   0.430279 -0.980871           -0.019608    -0.917849       -0.913718   \n",
       "2   0.262948 -0.725824           -0.137255    -0.944860       -0.917132   \n",
       "3  -0.446215 -0.056323           -0.490196    -0.734015       -0.746741   \n",
       "4  -0.392430  0.164718           -0.411765    -0.861895       -0.807573   \n",
       "\n",
       "   population  households  median_income  median_house_value  \n",
       "0   -0.820567   -0.619142      -0.696390           -0.607420  \n",
       "1   -0.846296   -0.918106      -0.581275           -0.783502  \n",
       "2   -0.953922   -0.918106      -0.729521           -0.156288  \n",
       "3   -0.852518   -0.737543      -0.383415            0.091958  \n",
       "4   -0.812775   -0.788851      -0.717604           -0.623503  "
      ]
     },
     "execution_count": 3,
     "metadata": {},
     "output_type": "execute_result"
    }
   ],
   "source": [
    "TRAIN_RATE = 0.8\n",
    "attributes = pd.read_csv(ATT_FILE)\n",
    "label = pd.read_csv(LABEL_FILE)\n",
    "attributes.head()"
   ]
  },
  {
   "cell_type": "raw",
   "metadata": {},
   "source": [
    "label.head()"
   ]
  },
  {
   "cell_type": "raw",
   "metadata": {},
   "source": []
  },
  {
   "cell_type": "code",
   "execution_count": null,
   "metadata": {},
   "outputs": [],
   "source": []
  }
 ],
 "metadata": {
  "kernelspec": {
   "display_name": "TensorFlow-GPU-New",
   "language": "python",
   "name": "tf-gpu-new"
  },
  "language_info": {
   "codemirror_mode": {
    "name": "ipython",
    "version": 3
   },
   "file_extension": ".py",
   "mimetype": "text/x-python",
   "name": "python",
   "nbconvert_exporter": "python",
   "pygments_lexer": "ipython3",
   "version": "3.6.8"
  }
 },
 "nbformat": 4,
 "nbformat_minor": 2
}
