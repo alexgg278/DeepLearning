{
 "cells": [
  {
   "cell_type": "code",
   "execution_count": 1,
   "metadata": {},
   "outputs": [],
   "source": [
    "import pandas as pd"
   ]
  },
  {
   "cell_type": "code",
   "execution_count": 2,
   "metadata": {},
   "outputs": [],
   "source": [
    "ATT_FILE = \"OceanProximityPreparedCleanAttributes.csv\"\n",
    "LABEL_FILE = \"OceanProximityOneHotEncodedClasses.csv\"\n",
    "#LABEL_FILE = str(input(\"Name of the label file: \"))"
   ]
  },
  {
   "cell_type": "code",
   "execution_count": 3,
   "metadata": {},
   "outputs": [
    {
     "data": {
      "text/html": [
       "<div>\n",
       "<style scoped>\n",
       "    .dataframe tbody tr th:only-of-type {\n",
       "        vertical-align: middle;\n",
       "    }\n",
       "\n",
       "    .dataframe tbody tr th {\n",
       "        vertical-align: top;\n",
       "    }\n",
       "\n",
       "    .dataframe thead th {\n",
       "        text-align: right;\n",
       "    }\n",
       "</style>\n",
       "<table border=\"1\" class=\"dataframe\">\n",
       "  <thead>\n",
       "    <tr style=\"text-align: right;\">\n",
       "      <th></th>\n",
       "      <th>longitude</th>\n",
       "      <th>latitude</th>\n",
       "      <th>housing_median_age</th>\n",
       "      <th>total_rooms</th>\n",
       "      <th>total_bedrooms</th>\n",
       "      <th>population</th>\n",
       "      <th>households</th>\n",
       "      <th>median_income</th>\n",
       "      <th>median_house_value</th>\n",
       "    </tr>\n",
       "  </thead>\n",
       "  <tbody>\n",
       "    <tr>\n",
       "      <th>0</th>\n",
       "      <td>0.420319</td>\n",
       "      <td>-0.662062</td>\n",
       "      <td>-0.647059</td>\n",
       "      <td>-0.697391</td>\n",
       "      <td>-0.587523</td>\n",
       "      <td>-0.820567</td>\n",
       "      <td>-0.619142</td>\n",
       "      <td>-0.696390</td>\n",
       "      <td>-0.607420</td>\n",
       "    </tr>\n",
       "    <tr>\n",
       "      <th>1</th>\n",
       "      <td>0.430279</td>\n",
       "      <td>-0.980871</td>\n",
       "      <td>-0.019608</td>\n",
       "      <td>-0.917849</td>\n",
       "      <td>-0.913718</td>\n",
       "      <td>-0.846296</td>\n",
       "      <td>-0.918106</td>\n",
       "      <td>-0.581275</td>\n",
       "      <td>-0.783502</td>\n",
       "    </tr>\n",
       "    <tr>\n",
       "      <th>2</th>\n",
       "      <td>0.262948</td>\n",
       "      <td>-0.725824</td>\n",
       "      <td>-0.137255</td>\n",
       "      <td>-0.944860</td>\n",
       "      <td>-0.917132</td>\n",
       "      <td>-0.953922</td>\n",
       "      <td>-0.918106</td>\n",
       "      <td>-0.729521</td>\n",
       "      <td>-0.156288</td>\n",
       "    </tr>\n",
       "    <tr>\n",
       "      <th>3</th>\n",
       "      <td>-0.446215</td>\n",
       "      <td>-0.056323</td>\n",
       "      <td>-0.490196</td>\n",
       "      <td>-0.734015</td>\n",
       "      <td>-0.746741</td>\n",
       "      <td>-0.852518</td>\n",
       "      <td>-0.737543</td>\n",
       "      <td>-0.383415</td>\n",
       "      <td>0.091958</td>\n",
       "    </tr>\n",
       "    <tr>\n",
       "      <th>4</th>\n",
       "      <td>-0.392430</td>\n",
       "      <td>0.164718</td>\n",
       "      <td>-0.411765</td>\n",
       "      <td>-0.861895</td>\n",
       "      <td>-0.807573</td>\n",
       "      <td>-0.812775</td>\n",
       "      <td>-0.788851</td>\n",
       "      <td>-0.717604</td>\n",
       "      <td>-0.623503</td>\n",
       "    </tr>\n",
       "  </tbody>\n",
       "</table>\n",
       "</div>"
      ],
      "text/plain": [
       "   longitude  latitude  housing_median_age  total_rooms  total_bedrooms  \\\n",
       "0   0.420319 -0.662062           -0.647059    -0.697391       -0.587523   \n",
       "1   0.430279 -0.980871           -0.019608    -0.917849       -0.913718   \n",
       "2   0.262948 -0.725824           -0.137255    -0.944860       -0.917132   \n",
       "3  -0.446215 -0.056323           -0.490196    -0.734015       -0.746741   \n",
       "4  -0.392430  0.164718           -0.411765    -0.861895       -0.807573   \n",
       "\n",
       "   population  households  median_income  median_house_value  \n",
       "0   -0.820567   -0.619142      -0.696390           -0.607420  \n",
       "1   -0.846296   -0.918106      -0.581275           -0.783502  \n",
       "2   -0.953922   -0.918106      -0.729521           -0.156288  \n",
       "3   -0.852518   -0.737543      -0.383415            0.091958  \n",
       "4   -0.812775   -0.788851      -0.717604           -0.623503  "
      ]
     },
     "execution_count": 3,
     "metadata": {},
     "output_type": "execute_result"
    }
   ],
   "source": [
    "TRAIN_RATE = 0.8\n",
    "attributes = pd.read_csv(ATT_FILE)\n",
    "label = pd.read_csv(LABEL_FILE)\n",
    "attributes.head()"
   ]
  },
  {
   "cell_type": "code",
   "execution_count": 4,
   "metadata": {},
   "outputs": [
    {
     "data": {
      "text/html": [
       "<div>\n",
       "<style scoped>\n",
       "    .dataframe tbody tr th:only-of-type {\n",
       "        vertical-align: middle;\n",
       "    }\n",
       "\n",
       "    .dataframe tbody tr th {\n",
       "        vertical-align: top;\n",
       "    }\n",
       "\n",
       "    .dataframe thead th {\n",
       "        text-align: right;\n",
       "    }\n",
       "</style>\n",
       "<table border=\"1\" class=\"dataframe\">\n",
       "  <thead>\n",
       "    <tr style=\"text-align: right;\">\n",
       "      <th></th>\n",
       "      <th>&lt;1H OCEAN</th>\n",
       "      <th>INLAND</th>\n",
       "      <th>NEAR BAY</th>\n",
       "      <th>NEAR OCEAN</th>\n",
       "    </tr>\n",
       "  </thead>\n",
       "  <tbody>\n",
       "    <tr>\n",
       "      <th>0</th>\n",
       "      <td>0.0</td>\n",
       "      <td>1.0</td>\n",
       "      <td>0.0</td>\n",
       "      <td>0.0</td>\n",
       "    </tr>\n",
       "    <tr>\n",
       "      <th>1</th>\n",
       "      <td>0.0</td>\n",
       "      <td>0.0</td>\n",
       "      <td>0.0</td>\n",
       "      <td>1.0</td>\n",
       "    </tr>\n",
       "    <tr>\n",
       "      <th>2</th>\n",
       "      <td>1.0</td>\n",
       "      <td>0.0</td>\n",
       "      <td>0.0</td>\n",
       "      <td>0.0</td>\n",
       "    </tr>\n",
       "    <tr>\n",
       "      <th>3</th>\n",
       "      <td>0.0</td>\n",
       "      <td>1.0</td>\n",
       "      <td>0.0</td>\n",
       "      <td>0.0</td>\n",
       "    </tr>\n",
       "    <tr>\n",
       "      <th>4</th>\n",
       "      <td>0.0</td>\n",
       "      <td>1.0</td>\n",
       "      <td>0.0</td>\n",
       "      <td>0.0</td>\n",
       "    </tr>\n",
       "  </tbody>\n",
       "</table>\n",
       "</div>"
      ],
      "text/plain": [
       "   <1H OCEAN  INLAND  NEAR BAY  NEAR OCEAN\n",
       "0        0.0     1.0       0.0         0.0\n",
       "1        0.0     0.0       0.0         1.0\n",
       "2        1.0     0.0       0.0         0.0\n",
       "3        0.0     1.0       0.0         0.0\n",
       "4        0.0     1.0       0.0         0.0"
      ]
     },
     "execution_count": 4,
     "metadata": {},
     "output_type": "execute_result"
    }
   ],
   "source": [
    "label.head()"
   ]
  },
  {
   "cell_type": "code",
   "execution_count": 5,
   "metadata": {},
   "outputs": [
    {
     "data": {
      "text/plain": [
       "(20428, 9)"
      ]
     },
     "execution_count": 5,
     "metadata": {},
     "output_type": "execute_result"
    }
   ],
   "source": [
    "attributes.shape"
   ]
  },
  {
   "cell_type": "code",
   "execution_count": 6,
   "metadata": {},
   "outputs": [
    {
     "data": {
      "text/plain": [
       "(20428, 4)"
      ]
     },
     "execution_count": 6,
     "metadata": {},
     "output_type": "execute_result"
    }
   ],
   "source": [
    "label.shape"
   ]
  },
  {
   "cell_type": "code",
   "execution_count": 8,
   "metadata": {},
   "outputs": [],
   "source": [
    "n_instances = attributes.shape[0]\n",
    "n_train = int(n_instances*TRAIN_RATE)\n",
    "n_dev = int((n_instances-n_train)/2)\n",
    "n_test = n_instances-n_train-n_dev"
   ]
  },
  {
   "cell_type": "code",
   "execution_count": 9,
   "metadata": {},
   "outputs": [
    {
     "data": {
      "text/plain": [
       "16342"
      ]
     },
     "execution_count": 9,
     "metadata": {},
     "output_type": "execute_result"
    }
   ],
   "source": [
    "n_train"
   ]
  },
  {
   "cell_type": "code",
   "execution_count": 10,
   "metadata": {},
   "outputs": [],
   "source": [
    "x_train = attributes.values[:n_train]\n",
    "t_train = label.values[:n_train]"
   ]
  },
  {
   "cell_type": "code",
   "execution_count": 11,
   "metadata": {},
   "outputs": [
    {
     "data": {
      "text/plain": [
       "array([[ 0.42031873, -0.66206164, -0.64705882, -0.69739051, -0.58752328,\n",
       "        -0.82056672, -0.61914159, -0.69639039, -0.60742018],\n",
       "       [ 0.43027888, -0.98087141, -0.01960784, -0.91784933, -0.91371819,\n",
       "        -0.84629614, -0.91810557, -0.58127474, -0.78350192],\n",
       "       [ 0.26294821, -0.72582359, -0.1372549 , -0.94485986, -0.91713222,\n",
       "        -0.95392248, -0.91810557, -0.72952097, -0.15628802],\n",
       "       [-0.44621514, -0.05632306, -0.49019608, -0.73401495, -0.74674115,\n",
       "        -0.85251829, -0.73754317, -0.3834154 ,  0.09195838],\n",
       "       [-0.39243028,  0.16471838, -0.41176471, -0.86189532, -0.80757294,\n",
       "        -0.81277502, -0.78885052, -0.7176039 , -0.62350258]])"
      ]
     },
     "execution_count": 11,
     "metadata": {},
     "output_type": "execute_result"
    }
   ],
   "source": [
    "x_train[:5]"
   ]
  },
  {
   "cell_type": "code",
   "execution_count": 12,
   "metadata": {},
   "outputs": [
    {
     "data": {
      "text/plain": [
       "array([[-0.07171315, -0.10733262, -0.1372549 , -0.89343303, -0.88081937,\n",
       "        -0.94910171, -0.86712712, -0.58443332, -0.56041006],\n",
       "       [-0.4123506 , -0.18384697,  0.49019608, -0.88371738, -0.83612663,\n",
       "        -0.91894392, -0.86548265, -0.60979849, -0.27587515]])"
      ]
     },
     "execution_count": 12,
     "metadata": {},
     "output_type": "execute_result"
    }
   ],
   "source": [
    "x_dev = attributes.values[n_train:n_train+n_dev]\n",
    "t_dev = label.values[n_train:n_train+n_dev]\n",
    "x_dev[:2]"
   ]
  },
  {
   "cell_type": "code",
   "execution_count": 13,
   "metadata": {},
   "outputs": [],
   "source": [
    "x_test = attributes.values[n_train+n_dev:n_instances]\n",
    "t_test = label.values[n_train+n_dev:n_instances]\n"
   ]
  },
  {
   "cell_type": "code",
   "execution_count": null,
   "metadata": {},
   "outputs": [],
   "source": []
  }
 ],
 "metadata": {
  "kernelspec": {
   "display_name": "TensorFlow-GPU-New",
   "language": "python",
   "name": "tf-gpu-new"
  },
  "language_info": {
   "codemirror_mode": {
    "name": "ipython",
    "version": 3
   },
   "file_extension": ".py",
   "mimetype": "text/x-python",
   "name": "python",
   "nbconvert_exporter": "python",
   "pygments_lexer": "ipython3",
   "version": "3.6.8"
  }
 },
 "nbformat": 4,
 "nbformat_minor": 2
}
