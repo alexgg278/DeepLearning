{
 "cells": [
  {
   "cell_type": "markdown",
   "metadata": {},
   "source": [
    "# Ocean Proximity with deep artificial neural networks: Final test"
   ]
  },
  {
   "cell_type": "markdown",
   "metadata": {},
   "source": [
    "Let's supposse that a full-connected 9-150-75-25-10-4 deep neural network with the hyperparameters described in section 1.2 Hyperparameters is the best model we can find to solve the Ocean Proximity classification problem. Finally, we must check this model aginst the final test set.    "
   ]
  },
  {
   "cell_type": "code",
   "execution_count": 1,
   "metadata": {},
   "outputs": [],
   "source": [
    "import numpy as np\n",
    "import pandas as pd\n",
    "import tensorflow as tf\n",
    "import matplotlib.pyplot as plt\n",
    "from tqdm import tqdm"
   ]
  },
  {
   "cell_type": "code",
   "execution_count": null,
   "metadata": {},
   "outputs": [],
   "source": [
    "%run 1.ReadingData.py"
   ]
  },
  {
   "cell_type": "markdown",
   "metadata": {},
   "source": [
    "## Initialization"
   ]
  },
  {
   "cell_type": "code",
   "execution_count": 3,
   "metadata": {},
   "outputs": [],
   "source": [
    "INPUTS = x_train.shape[1]\n",
    "OUTPUTS = t_train.shape[1]\n",
    "NUM_TRAINING_EXAMPLES = int(round(x_train.shape[0]/1))\n",
    "NUM_DEV_EXAMPLES = int (round (x_dev.shape[0]/1))\n",
    "NUM_TEST_EXAMPLES = int (round (x_test.shape[0]/1))"
   ]
  },
  {
   "cell_type": "markdown",
   "metadata": {},
   "source": [
    "Some data is displayed to test correctness:"
   ]
  },
  {
   "cell_type": "code",
   "execution_count": 4,
   "metadata": {},
   "outputs": [
    {
     "data": {
      "text/plain": [
       "9"
      ]
     },
     "execution_count": 4,
     "metadata": {},
     "output_type": "execute_result"
    }
   ],
   "source": [
    "INPUTS"
   ]
  },
  {
   "cell_type": "code",
   "execution_count": 5,
   "metadata": {
    "scrolled": true
   },
   "outputs": [
    {
     "data": {
      "text/plain": [
       "4"
      ]
     },
     "execution_count": 5,
     "metadata": {},
     "output_type": "execute_result"
    }
   ],
   "source": [
    "OUTPUTS"
   ]
  },
  {
   "cell_type": "code",
   "execution_count": 6,
   "metadata": {},
   "outputs": [
    {
     "data": {
      "text/plain": [
       "16342"
      ]
     },
     "execution_count": 6,
     "metadata": {},
     "output_type": "execute_result"
    }
   ],
   "source": [
    "NUM_TRAINING_EXAMPLES"
   ]
  },
  {
   "cell_type": "code",
   "execution_count": 7,
   "metadata": {},
   "outputs": [
    {
     "data": {
      "text/plain": [
       "2043"
      ]
     },
     "execution_count": 7,
     "metadata": {},
     "output_type": "execute_result"
    }
   ],
   "source": [
    "NUM_DEV_EXAMPLES"
   ]
  },
  {
   "cell_type": "code",
   "execution_count": 8,
   "metadata": {},
   "outputs": [
    {
     "data": {
      "text/plain": [
       "array([[ 0.42031873, -0.66206164, -0.64705882, -0.69739051, -0.58752328,\n",
       "        -0.82056672, -0.61914159, -0.69639039, -0.60742018],\n",
       "       [ 0.43027888, -0.98087141, -0.01960784, -0.91784933, -0.91371819,\n",
       "        -0.84629614, -0.91810557, -0.58127474, -0.78350192],\n",
       "       [ 0.26294821, -0.72582359, -0.1372549 , -0.94485986, -0.91713222,\n",
       "        -0.95392248, -0.91810557, -0.72952097, -0.15628802],\n",
       "       [-0.44621514, -0.05632306, -0.49019608, -0.73401495, -0.74674115,\n",
       "        -0.85251829, -0.73754317, -0.3834154 ,  0.09195838],\n",
       "       [-0.39243028,  0.16471838, -0.41176471, -0.86189532, -0.80757294,\n",
       "        -0.81277502, -0.78885052, -0.7176039 , -0.62350258]])"
      ]
     },
     "execution_count": 8,
     "metadata": {},
     "output_type": "execute_result"
    }
   ],
   "source": [
    "x_train[:5]"
   ]
  },
  {
   "cell_type": "code",
   "execution_count": 9,
   "metadata": {},
   "outputs": [
    {
     "data": {
      "text/plain": [
       "array([[0., 1., 0., 0.],\n",
       "       [0., 0., 0., 1.],\n",
       "       [1., 0., 0., 0.],\n",
       "       [0., 1., 0., 0.],\n",
       "       [0., 1., 0., 0.]])"
      ]
     },
     "execution_count": 9,
     "metadata": {},
     "output_type": "execute_result"
    }
   ],
   "source": [
    "t_train[:5]"
   ]
  },
  {
   "cell_type": "code",
   "execution_count": 10,
   "metadata": {},
   "outputs": [
    {
     "data": {
      "text/plain": [
       "array([[-0.07171315, -0.10733262, -0.1372549 , -0.89343303, -0.88081937,\n",
       "        -0.94910171, -0.86712712, -0.58443332, -0.56041006],\n",
       "       [-0.4123506 , -0.18384697,  0.49019608, -0.88371738, -0.83612663,\n",
       "        -0.91894392, -0.86548265, -0.60979849, -0.27587515],\n",
       "       [-0.61952191,  0.11583422,  1.        , -0.9123048 , -0.88112973,\n",
       "        -0.96575016, -0.88324289, -0.56120605,  0.99999588],\n",
       "       [ 0.45418327, -0.9957492 , -0.17647059, -0.88961799, -0.82557418,\n",
       "        -0.88531069, -0.82798882, -0.79089944, -0.48742067],\n",
       "       [ 0.15338645, -0.64930925,  0.33333333, -0.96032352, -0.95561763,\n",
       "        -0.97634463, -0.95428383, -0.31657494, -0.23133925]])"
      ]
     },
     "execution_count": 10,
     "metadata": {},
     "output_type": "execute_result"
    }
   ],
   "source": [
    "x_dev[:5]"
   ]
  },
  {
   "cell_type": "code",
   "execution_count": 11,
   "metadata": {},
   "outputs": [
    {
     "data": {
      "text/plain": [
       "array([[0., 1., 0., 0.],\n",
       "       [1., 0., 0., 0.],\n",
       "       [0., 0., 1., 0.],\n",
       "       [0., 0., 0., 1.],\n",
       "       [1., 0., 0., 0.]])"
      ]
     },
     "execution_count": 11,
     "metadata": {},
     "output_type": "execute_result"
    }
   ],
   "source": [
    "t_dev[:5]"
   ]
  },
  {
   "cell_type": "markdown",
   "metadata": {},
   "source": [
    "## Hyperparameters"
   ]
  },
  {
   "cell_type": "markdown",
   "metadata": {},
   "source": [
    "The number of hidden layers and neurons per layer must be adjusted."
   ]
  },
  {
   "cell_type": "code",
   "execution_count": 12,
   "metadata": {},
   "outputs": [],
   "source": [
    "n_epochs = 20000 \n",
    "learning_rate = 0.1\n",
    "batch_size = 200\n",
    "n_neurons_per_layer = [150,75,25,10] "
   ]
  },
  {
   "cell_type": "markdown",
   "metadata": {},
   "source": [
    "## Build the model: a 9-150-75-25-10-4 deep neural network architecture"
   ]
  },
  {
   "cell_type": "code",
   "execution_count": 13,
   "metadata": {},
   "outputs": [],
   "source": [
    "X = tf.placeholder (dtype=tf.float32, shape=(None,INPUTS),name=\"X\")\n",
    "t = tf.placeholder (dtype=tf.float32, shape=(None,OUTPUTS), name=\"t\")"
   ]
  },
  {
   "cell_type": "markdown",
   "metadata": {},
   "source": [
    "The deep neural network topology is defined: a full-connected 8-100-50-25-10-10 architecture. The <b>ReLU</b> activation function is chosen for the hidden layers and linear logits with <b>softmax for the ouput layer</b>. "
   ]
  },
  {
   "cell_type": "code",
   "execution_count": 14,
   "metadata": {},
   "outputs": [],
   "source": [
    "hidden_layers = []\n",
    "hidden_layers.append(tf.layers.dense (X, n_neurons_per_layer[0], \n",
    "                                      activation = tf.nn.relu))\n",
    "for layer in range(1,len(n_neurons_per_layer)):\n",
    "    hidden_layers.append(tf.layers.dense (hidden_layers[layer-1], \n",
    "                 n_neurons_per_layer[layer], activation = tf.nn.relu))\n",
    "net_out = tf.layers.dense (hidden_layers[len(n_neurons_per_layer)-1], OUTPUTS)\n",
    "y = tf.nn.softmax (logits=net_out, name=\"y\")"
   ]
  },
  {
   "cell_type": "code",
   "execution_count": 15,
   "metadata": {},
   "outputs": [
    {
     "name": "stdout",
     "output_type": "stream",
     "text": [
      "Tensor(\"dense/Relu:0\", shape=(?, 150), dtype=float32)\n",
      "Tensor(\"dense_1/Relu:0\", shape=(?, 75), dtype=float32)\n",
      "Tensor(\"dense_2/Relu:0\", shape=(?, 25), dtype=float32)\n",
      "Tensor(\"dense_3/Relu:0\", shape=(?, 10), dtype=float32)\n"
     ]
    }
   ],
   "source": [
    "for layer in range(len(n_neurons_per_layer)): print (hidden_layers[layer])"
   ]
  },
  {
   "cell_type": "markdown",
   "metadata": {},
   "source": [
    "The $log-loss$, $cross-entropy$ (the sun of log-loss is a loss) and and $cost$ (the mean of cross-entropy) functions:"
   ]
  },
  {
   "cell_type": "code",
   "execution_count": 16,
   "metadata": {},
   "outputs": [],
   "source": [
    "cross_entropy = tf.nn.softmax_cross_entropy_with_logits_v2 (labels=t, logits=net_out)\n",
    "mean_log_loss = tf.reduce_mean (cross_entropy, name=\"cost\")"
   ]
  },
  {
   "cell_type": "markdown",
   "metadata": {},
   "source": [
    "The training algorithm: gradient descent method with a softmax function at the outputs:"
   ]
  },
  {
   "cell_type": "code",
   "execution_count": 17,
   "metadata": {},
   "outputs": [],
   "source": [
    "train_step = tf.train.GradientDescentOptimizer (learning_rate).minimize(mean_log_loss)"
   ]
  },
  {
   "cell_type": "markdown",
   "metadata": {},
   "source": [
    "Model evaluation: accuracy. The percentage of correctly classified instances."
   ]
  },
  {
   "cell_type": "code",
   "execution_count": 18,
   "metadata": {},
   "outputs": [],
   "source": [
    "correct_predictions = tf.equal(tf.argmax(y,1),tf.argmax(t,1))\n",
    "accuracy = tf.reduce_mean(tf.cast(correct_predictions,tf.float32))"
   ]
  },
  {
   "cell_type": "markdown",
   "metadata": {},
   "source": [
    "## Execute the 9-150-75-25-10-4 deep neural network with M-BGD"
   ]
  },
  {
   "cell_type": "code",
   "execution_count": 19,
   "metadata": {},
   "outputs": [
    {
     "name": "stderr",
     "output_type": "stream",
     "text": [
      "100%|██████████| 20000/20000 [03:21<00:00, 99.50it/s] \n"
     ]
    }
   ],
   "source": [
    "init = tf.global_variables_initializer()\n",
    "accuracy_train_history = []\n",
    "with tf.Session() as sess:\n",
    "    sess.run(init)\n",
    "    for epoch in tqdm(range(n_epochs)):\n",
    "        offset = (epoch * batch_size) % (NUM_TRAINING_EXAMPLES - batch_size)\n",
    "        sess.run (train_step, feed_dict={X: x_train[offset:(offset+batch_size)],\n",
    "                                         t: t_train[offset:(offset+batch_size)]})\n",
    "            \n",
    "    accuracy_test = accuracy.eval(feed_dict={X: x_test[:NUM_TEST_EXAMPLES],\n",
    "                                              t: t_test[:NUM_TEST_EXAMPLES]})\n",
    "    test_predictions = y.eval(feed_dict={X: x_test[:NUM_TEST_EXAMPLES]})\n",
    "    \n",
    "    test_correct_preditions = correct_predictions.eval (feed_dict=\n",
    "                                    {X: x_test[:NUM_TEST_EXAMPLES],\n",
    "                                     t: t_test[:NUM_TEST_EXAMPLES]})   \n",
    "    "
   ]
  },
  {
   "cell_type": "code",
   "execution_count": 20,
   "metadata": {},
   "outputs": [
    {
     "data": {
      "text/plain": [
       "'Accuracy for the TEST set: 0.9388155'"
      ]
     },
     "execution_count": 20,
     "metadata": {},
     "output_type": "execute_result"
    }
   ],
   "source": [
    "\"Accuracy for the TEST set: \" + str(accuracy_test)"
   ]
  },
  {
   "cell_type": "code",
   "execution_count": 21,
   "metadata": {
    "scrolled": true
   },
   "outputs": [
    {
     "data": {
      "text/plain": [
       "array([[8.1986576e-01, 6.4289913e-04, 3.3940219e-06, 1.7948791e-01],\n",
       "       [9.9886191e-01, 1.0785614e-03, 4.7880158e-06, 5.4819564e-05],\n",
       "       [1.3193237e-02, 7.9329489e-05, 9.8672664e-01, 7.3480385e-07],\n",
       "       ...,\n",
       "       [9.9853885e-01, 4.4980676e-05, 5.8038779e-08, 1.4161899e-03],\n",
       "       [9.9814260e-01, 9.1308633e-05, 6.3880510e-04, 1.1272870e-03],\n",
       "       [1.0934104e-01, 8.9064920e-01, 9.0073836e-06, 7.2069679e-07]],\n",
       "      dtype=float32)"
      ]
     },
     "execution_count": 21,
     "metadata": {},
     "output_type": "execute_result"
    }
   ],
   "source": [
    "test_predictions"
   ]
  },
  {
   "cell_type": "code",
   "execution_count": 22,
   "metadata": {},
   "outputs": [
    {
     "data": {
      "text/plain": [
       "array([[1., 0., 0., 0.],\n",
       "       [1., 0., 0., 0.],\n",
       "       [0., 0., 1., 0.],\n",
       "       [0., 1., 0., 0.],\n",
       "       [0., 0., 1., 0.],\n",
       "       [1., 0., 0., 0.],\n",
       "       [1., 0., 0., 0.],\n",
       "       [1., 0., 0., 0.],\n",
       "       [0., 0., 0., 1.],\n",
       "       [0., 0., 0., 1.]], dtype=float32)"
      ]
     },
     "execution_count": 22,
     "metadata": {},
     "output_type": "execute_result"
    }
   ],
   "source": [
    "test_rounded_predictions=np.round(test_predictions)\n",
    "indices = np.argmax(test_predictions,1)\n",
    "for row, index in zip(test_rounded_predictions, indices): row[index]=1\n",
    "test_rounded_predictions[:10]"
   ]
  },
  {
   "cell_type": "code",
   "execution_count": 23,
   "metadata": {},
   "outputs": [
    {
     "data": {
      "text/plain": [
       "array([[1., 0., 0., 0.],\n",
       "       [1., 0., 0., 0.],\n",
       "       [0., 0., 1., 0.],\n",
       "       [0., 1., 0., 0.],\n",
       "       [0., 0., 1., 0.],\n",
       "       [1., 0., 0., 0.],\n",
       "       [1., 0., 0., 0.],\n",
       "       [1., 0., 0., 0.],\n",
       "       [0., 0., 0., 1.],\n",
       "       [1., 0., 0., 0.]])"
      ]
     },
     "execution_count": 23,
     "metadata": {},
     "output_type": "execute_result"
    }
   ],
   "source": [
    "t_test[:10] #target classes"
   ]
  },
  {
   "cell_type": "code",
   "execution_count": 24,
   "metadata": {},
   "outputs": [
    {
     "data": {
      "text/plain": [
       "array([ True,  True,  True,  True,  True,  True,  True,  True,  True,\n",
       "       False])"
      ]
     },
     "execution_count": 24,
     "metadata": {},
     "output_type": "execute_result"
    }
   ],
   "source": [
    "test_correct_preditions[:10]"
   ]
  },
  {
   "cell_type": "markdown",
   "metadata": {},
   "source": [
    "Since this is the final neural model, the accuracy is calculated against the final test set, achieving a <b>94% of accuracy</b>."
   ]
  }
 ],
 "metadata": {
  "kernelspec": {
   "display_name": "TensorFlow-GPU-New",
   "language": "python",
   "name": "tf-gpu-new"
  },
  "language_info": {
   "codemirror_mode": {
    "name": "ipython",
    "version": 3
   },
   "file_extension": ".py",
   "mimetype": "text/x-python",
   "name": "python",
   "nbconvert_exporter": "python",
   "pygments_lexer": "ipython3",
   "version": "3.6.8"
  }
 },
 "nbformat": 4,
 "nbformat_minor": 2
}
