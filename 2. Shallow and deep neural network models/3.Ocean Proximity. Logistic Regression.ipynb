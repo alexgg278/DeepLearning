{
 "cells": [
  {
   "cell_type": "markdown",
   "metadata": {},
   "source": [
    "# Ocean Proximity as a Logistic Regression Problem (Batch update)"
   ]
  },
  {
   "cell_type": "code",
   "execution_count": 1,
   "metadata": {},
   "outputs": [],
   "source": [
    "import numpy as np\n",
    "import pandas as pd\n",
    "import tensorflow as tf\n",
    "import matplotlib.pyplot as plt\n",
    "from tqdm import tqdm"
   ]
  },
  {
   "cell_type": "code",
   "execution_count": 2,
   "metadata": {},
   "outputs": [
    {
     "name": "stdout",
     "output_type": "stream",
     "text": [
      "Name of the label file: OceanProximityOneHotEncodedClasses.csv\n",
      "x_train: (16342, 9)\n",
      "t_train: (16342, 4)\n",
      "x_dev: (2043, 9)\n",
      "t_dev: (2043, 4)\n",
      "x_test: (2043, 9)\n",
      "t_test: (2043, 4)\n"
     ]
    }
   ],
   "source": [
    "%run 1.ReadingData.py"
   ]
  },
  {
   "cell_type": "markdown",
   "metadata": {},
   "source": [
    "## Initialization"
   ]
  },
  {
   "cell_type": "code",
   "execution_count": 3,
   "metadata": {},
   "outputs": [],
   "source": [
    "INPUTS = x_train.shape[1]\n",
    "OUTPUTS = t_train.shape[1]\n",
    "NUM_TRAINING_EXAMPLES = int(round(x_train.shape[0]/1))\n",
    "NUM_DEV_EXAMPLES = int (round (x_dev.shape[0]/1))"
   ]
  },
  {
   "cell_type": "markdown",
   "metadata": {},
   "source": [
    "Some data is displayed to test correctness:"
   ]
  },
  {
   "cell_type": "code",
   "execution_count": 4,
   "metadata": {},
   "outputs": [
    {
     "data": {
      "text/plain": [
       "9"
      ]
     },
     "execution_count": 4,
     "metadata": {},
     "output_type": "execute_result"
    }
   ],
   "source": [
    "INPUTS"
   ]
  },
  {
   "cell_type": "code",
   "execution_count": 5,
   "metadata": {
    "scrolled": true
   },
   "outputs": [
    {
     "data": {
      "text/plain": [
       "4"
      ]
     },
     "execution_count": 5,
     "metadata": {},
     "output_type": "execute_result"
    }
   ],
   "source": [
    "OUTPUTS"
   ]
  },
  {
   "cell_type": "code",
   "execution_count": 6,
   "metadata": {},
   "outputs": [
    {
     "data": {
      "text/plain": [
       "16342"
      ]
     },
     "execution_count": 6,
     "metadata": {},
     "output_type": "execute_result"
    }
   ],
   "source": [
    "NUM_TRAINING_EXAMPLES"
   ]
  },
  {
   "cell_type": "code",
   "execution_count": 7,
   "metadata": {},
   "outputs": [
    {
     "data": {
      "text/plain": [
       "2043"
      ]
     },
     "execution_count": 7,
     "metadata": {},
     "output_type": "execute_result"
    }
   ],
   "source": [
    "NUM_DEV_EXAMPLES"
   ]
  },
  {
   "cell_type": "code",
   "execution_count": 8,
   "metadata": {},
   "outputs": [
    {
     "data": {
      "text/plain": [
       "array([[ 0.42031873, -0.66206164, -0.64705882, -0.69739051, -0.58752328,\n",
       "        -0.82056672, -0.61914159, -0.69639039, -0.60742018],\n",
       "       [ 0.43027888, -0.98087141, -0.01960784, -0.91784933, -0.91371819,\n",
       "        -0.84629614, -0.91810557, -0.58127474, -0.78350192],\n",
       "       [ 0.26294821, -0.72582359, -0.1372549 , -0.94485986, -0.91713222,\n",
       "        -0.95392248, -0.91810557, -0.72952097, -0.15628802],\n",
       "       [-0.44621514, -0.05632306, -0.49019608, -0.73401495, -0.74674115,\n",
       "        -0.85251829, -0.73754317, -0.3834154 ,  0.09195838],\n",
       "       [-0.39243028,  0.16471838, -0.41176471, -0.86189532, -0.80757294,\n",
       "        -0.81277502, -0.78885052, -0.7176039 , -0.62350258]])"
      ]
     },
     "execution_count": 8,
     "metadata": {},
     "output_type": "execute_result"
    }
   ],
   "source": [
    "x_train[:5]"
   ]
  },
  {
   "cell_type": "code",
   "execution_count": 9,
   "metadata": {},
   "outputs": [
    {
     "data": {
      "text/plain": [
       "array([[0., 1., 0., 0.],\n",
       "       [0., 0., 0., 1.],\n",
       "       [1., 0., 0., 0.],\n",
       "       [0., 1., 0., 0.],\n",
       "       [0., 1., 0., 0.]])"
      ]
     },
     "execution_count": 9,
     "metadata": {},
     "output_type": "execute_result"
    }
   ],
   "source": [
    "t_train[:5]"
   ]
  },
  {
   "cell_type": "code",
   "execution_count": 10,
   "metadata": {},
   "outputs": [
    {
     "data": {
      "text/plain": [
       "array([[-0.07171315, -0.10733262, -0.1372549 , -0.89343303, -0.88081937,\n",
       "        -0.94910171, -0.86712712, -0.58443332, -0.56041006],\n",
       "       [-0.4123506 , -0.18384697,  0.49019608, -0.88371738, -0.83612663,\n",
       "        -0.91894392, -0.86548265, -0.60979849, -0.27587515],\n",
       "       [-0.61952191,  0.11583422,  1.        , -0.9123048 , -0.88112973,\n",
       "        -0.96575016, -0.88324289, -0.56120605,  0.99999588],\n",
       "       [ 0.45418327, -0.9957492 , -0.17647059, -0.88961799, -0.82557418,\n",
       "        -0.88531069, -0.82798882, -0.79089944, -0.48742067],\n",
       "       [ 0.15338645, -0.64930925,  0.33333333, -0.96032352, -0.95561763,\n",
       "        -0.97634463, -0.95428383, -0.31657494, -0.23133925]])"
      ]
     },
     "execution_count": 10,
     "metadata": {},
     "output_type": "execute_result"
    }
   ],
   "source": [
    "x_dev[:5]"
   ]
  },
  {
   "cell_type": "code",
   "execution_count": 11,
   "metadata": {},
   "outputs": [
    {
     "data": {
      "text/plain": [
       "array([[0., 1., 0., 0.],\n",
       "       [1., 0., 0., 0.],\n",
       "       [0., 0., 1., 0.],\n",
       "       [0., 0., 0., 1.],\n",
       "       [1., 0., 0., 0.]])"
      ]
     },
     "execution_count": 11,
     "metadata": {},
     "output_type": "execute_result"
    }
   ],
   "source": [
    "t_dev[:5]"
   ]
  },
  {
   "cell_type": "markdown",
   "metadata": {},
   "source": [
    "## Hyperparameters"
   ]
  },
  {
   "cell_type": "code",
   "execution_count": 12,
   "metadata": {},
   "outputs": [],
   "source": [
    "n_epochs = 20000\n",
    "learning_rate = 0.1"
   ]
  },
  {
   "cell_type": "markdown",
   "metadata": {},
   "source": [
    "## Build the model: logistic classifier"
   ]
  },
  {
   "cell_type": "code",
   "execution_count": 13,
   "metadata": {},
   "outputs": [],
   "source": [
    "X = tf.placeholder (dtype=tf.float32, shape=(None,INPUTS),name=\"X\")\n",
    "t = tf.placeholder (dtype=tf.float32, shape=(None,OUTPUTS), name=\"t\")"
   ]
  },
  {
   "cell_type": "code",
   "execution_count": 14,
   "metadata": {},
   "outputs": [],
   "source": [
    "W = tf.Variable (tf.random_uniform ([INPUTS,OUTPUTS],-1,1), name=\"W\")\n",
    "b = tf.Variable (tf.zeros([OUTPUTS]), name = \"bias\")"
   ]
  },
  {
   "cell_type": "markdown",
   "metadata": {},
   "source": [
    "Compute the $logits$ (net), then the output with the $Softmax$ activation function:"
   ]
  },
  {
   "cell_type": "code",
   "execution_count": 15,
   "metadata": {},
   "outputs": [],
   "source": [
    "net = tf.matmul(X,W)+b\n",
    "y = tf.nn.softmax (logits=net, name=\"y\")"
   ]
  },
  {
   "cell_type": "markdown",
   "metadata": {},
   "source": [
    "The $log-loss$, $cross-entropy$ (the sun of log-loss is a loss) and and $cost$ (the mean of cross-entropy) functions:"
   ]
  },
  {
   "cell_type": "code",
   "execution_count": 16,
   "metadata": {},
   "outputs": [],
   "source": [
    "cross_entropy = tf.nn.softmax_cross_entropy_with_logits_v2 (labels=t, logits=net)\n",
    "mean_log_loss = tf.reduce_mean (cross_entropy, name=\"cost\")"
   ]
  },
  {
   "cell_type": "markdown",
   "metadata": {},
   "source": [
    "The training algorithm: gradient descent method with a softmax function at the outputs:"
   ]
  },
  {
   "cell_type": "code",
   "execution_count": 17,
   "metadata": {},
   "outputs": [],
   "source": [
    "train_step = tf.train.GradientDescentOptimizer (learning_rate).minimize(mean_log_loss)"
   ]
  },
  {
   "cell_type": "markdown",
   "metadata": {},
   "source": [
    "Model evaluation: accuracy. The percentage of correctly classified instances."
   ]
  },
  {
   "cell_type": "code",
   "execution_count": 18,
   "metadata": {},
   "outputs": [],
   "source": [
    "correct_predictions = tf.equal(tf.argmax(y,1),tf.argmax(t,1))\n",
    "accuracy = tf.reduce_mean(tf.cast(correct_predictions,tf.float32))"
   ]
  },
  {
   "cell_type": "markdown",
   "metadata": {},
   "source": [
    "## Execute the model (batch pproach)"
   ]
  },
  {
   "cell_type": "code",
   "execution_count": 19,
   "metadata": {},
   "outputs": [
    {
     "name": "stderr",
     "output_type": "stream",
     "text": [
      "100%|██████████| 20000/20000 [03:52<00:00, 86.04it/s]\n"
     ]
    }
   ],
   "source": [
    "init = tf.global_variables_initializer()\n",
    "accuracy_train_history = []\n",
    "with tf.Session() as sess:\n",
    "    sess.run(init)\n",
    "    for epoch in tqdm(range(n_epochs)):\n",
    "        sess.run (train_step, feed_dict={X: x_train[:NUM_TRAINING_EXAMPLES],\n",
    "                                         t: t_train[:NUM_TRAINING_EXAMPLES]})\n",
    "        accuracy_train_history.append (accuracy.eval(feed_dict={X: x_train[:NUM_TRAINING_EXAMPLES],\n",
    "                                                                t: t_train[:NUM_TRAINING_EXAMPLES]}))\n",
    "    accuracy_train = accuracy.eval(feed_dict={X: x_train[:NUM_TRAINING_EXAMPLES],\n",
    "                                              t: t_train[:NUM_TRAINING_EXAMPLES]})\n",
    "    accuracy_dev = accuracy.eval(feed_dict={X: x_dev[:NUM_DEV_EXAMPLES],\n",
    "                                              t: t_dev[:NUM_DEV_EXAMPLES]})\n",
    "    predictions = y.eval(feed_dict={X: x_dev[:NUM_DEV_EXAMPLES]})\n",
    "    final_correct_preditions = correct_predictions.eval (feed_dict={X: x_dev[:NUM_DEV_EXAMPLES],\n",
    "                                                                    t: t_dev[:NUM_DEV_EXAMPLES]})\n",
    "    final_train_mean_log_loss = mean_log_loss.eval (feed_dict={X: x_train[:NUM_TRAINING_EXAMPLES],\n",
    "                                              t: t_train[:NUM_TRAINING_EXAMPLES]})\n",
    "    final_dev_mean_log_loss = mean_log_loss.eval (feed_dict={X: x_dev[:NUM_DEV_EXAMPLES],\n",
    "                                              t: t_dev[:NUM_DEV_EXAMPLES]})"
   ]
  },
  {
   "cell_type": "code",
   "execution_count": 20,
   "metadata": {},
   "outputs": [
    {
     "data": {
      "text/plain": [
       "'Final accuracy in training: 0.7898666'"
      ]
     },
     "execution_count": 20,
     "metadata": {},
     "output_type": "execute_result"
    }
   ],
   "source": [
    "\"Final accuracy in training: \" + str(accuracy_train)"
   ]
  },
  {
   "cell_type": "code",
   "execution_count": 21,
   "metadata": {},
   "outputs": [
    {
     "data": {
      "text/plain": [
       "'Accuracy for the development set: 0.7914831'"
      ]
     },
     "execution_count": 21,
     "metadata": {},
     "output_type": "execute_result"
    }
   ],
   "source": [
    "\"Accuracy for the development set: \" + str(accuracy_dev)"
   ]
  },
  {
   "cell_type": "code",
   "execution_count": 22,
   "metadata": {},
   "outputs": [
    {
     "data": {
      "text/plain": [
       "[<matplotlib.lines.Line2D at 0xb37dcc0b8>]"
      ]
     },
     "execution_count": 22,
     "metadata": {},
     "output_type": "execute_result"
    },
    {
     "data": {
      "image/png": "[encoded data removed]",
      "text/plain": [
       "<Figure size 432x288 with 1 Axes>"
      ]
     },
     "metadata": {
      "needs_background": "light"
     },
     "output_type": "display_data"
    }
   ],
   "source": [
    "plt.title (\"Accuracy Evolution\")\n",
    "plt.xlabel (\"Epochs\")\n",
    "plt.ylabel (\"Accuracy\")\n",
    "plt.plot (range(n_epochs),accuracy_train_history)"
   ]
  },
  {
   "cell_type": "code",
   "execution_count": 23,
   "metadata": {},
   "outputs": [
    {
     "data": {
      "text/plain": [
       "array([[3.2244977e-02, 9.6210325e-01, 2.0898040e-03, 3.5620250e-03],\n",
       "       [5.1652497e-01, 1.5065208e-02, 1.8596150e-01, 2.8244838e-01],\n",
       "       [1.4083046e-01, 4.9856969e-04, 7.6692057e-01, 9.1750368e-02],\n",
       "       ...,\n",
       "       [4.6194196e-01, 1.8944679e-01, 2.1744657e-01, 1.3116471e-01],\n",
       "       [1.8539132e-01, 5.9627473e-01, 2.0724732e-01, 1.1086642e-02],\n",
       "       [6.7923743e-01, 1.8258539e-01, 2.8578560e-03, 1.3531925e-01]],\n",
       "      dtype=float32)"
      ]
     },
     "execution_count": 23,
     "metadata": {},
     "output_type": "execute_result"
    }
   ],
   "source": [
    "predictions"
   ]
  },
  {
   "cell_type": "code",
   "execution_count": 24,
   "metadata": {},
   "outputs": [
    {
     "data": {
      "text/plain": [
       "array([[0., 1., 0., 0.],\n",
       "       [1., 0., 0., 0.],\n",
       "       [0., 0., 1., 0.],\n",
       "       [1., 0., 0., 0.],\n",
       "       [1., 0., 0., 0.],\n",
       "       [1., 0., 0., 0.],\n",
       "       [1., 0., 0., 0.],\n",
       "       [1., 0., 0., 0.],\n",
       "       [0., 1., 0., 0.],\n",
       "       [0., 1., 0., 0.]], dtype=float32)"
      ]
     },
     "execution_count": 24,
     "metadata": {},
     "output_type": "execute_result"
    }
   ],
   "source": [
    "rounded_predictions=np.round(predictions)\n",
    "indices = np.argmax(predictions,1)\n",
    "for row, index in zip(rounded_predictions, indices): row[index]=1\n",
    "rounded_predictions[:10]"
   ]
  },
  {
   "cell_type": "code",
   "execution_count": 25,
   "metadata": {},
   "outputs": [
    {
     "data": {
      "text/plain": [
       "array([[0., 1., 0., 0.],\n",
       "       [1., 0., 0., 0.],\n",
       "       [0., 0., 1., 0.],\n",
       "       [0., 0., 0., 1.],\n",
       "       [1., 0., 0., 0.],\n",
       "       [1., 0., 0., 0.],\n",
       "       [1., 0., 0., 0.],\n",
       "       [1., 0., 0., 0.],\n",
       "       [0., 1., 0., 0.],\n",
       "       [0., 1., 0., 0.]])"
      ]
     },
     "execution_count": 25,
     "metadata": {},
     "output_type": "execute_result"
    }
   ],
   "source": [
    "t_dev[:10]"
   ]
  },
  {
   "cell_type": "code",
   "execution_count": 26,
   "metadata": {},
   "outputs": [
    {
     "data": {
      "text/plain": [
       "array([ True,  True,  True, False,  True,  True,  True,  True,  True,\n",
       "        True])"
      ]
     },
     "execution_count": 26,
     "metadata": {},
     "output_type": "execute_result"
    }
   ],
   "source": [
    "final_correct_preditions[:10]"
   ]
  },
  {
   "cell_type": "code",
   "execution_count": 27,
   "metadata": {},
   "outputs": [
    {
     "data": {
      "text/plain": [
       "0.6051138"
      ]
     },
     "execution_count": 27,
     "metadata": {},
     "output_type": "execute_result"
    }
   ],
   "source": [
    "final_train_mean_log_loss"
   ]
  },
  {
   "cell_type": "code",
   "execution_count": 28,
   "metadata": {
    "scrolled": true
   },
   "outputs": [
    {
     "data": {
      "text/plain": [
       "0.59014726"
      ]
     },
     "execution_count": 28,
     "metadata": {},
     "output_type": "execute_result"
    }
   ],
   "source": [
    "final_dev_mean_log_loss"
   ]
  },
  {
   "cell_type": "markdown",
   "metadata": {},
   "source": [
    "<b>The accuracy</b> is up to 79% in the training and development (unseen data) datasets. Dev samples has been employed to adjust the learning rate to $\\alpha = 0.1$ and the number of epochs to 20,000. Note that <b>3 minutes and 52 secs.</b> have been taken to train a simple model without hidden layers. There are 9 inputs x 4 outputs = 36 weights (the kernel size) + 4 bias = <b>40 parameters to adjust</b> for each sample in each epoch: 16,342 training samples * 20,000 epochs = <b>326,840,000 weight variation calculations</b>.  "
   ]
  },
  {
   "cell_type": "markdown",
   "metadata": {},
   "source": [
    "No GPU has been used in this study case, just a 2,7 GHz intel Core i7."
   ]
  }
 ],
 "metadata": {
  "kernelspec": {
   "display_name": "Python 3",
   "language": "python",
   "name": "python3"
  },
  "language_info": {
   "codemirror_mode": {
    "name": "ipython",
    "version": 3
   },
   "file_extension": ".py",
   "mimetype": "text/x-python",
   "name": "python",
   "nbconvert_exporter": "python",
   "pygments_lexer": "ipython3",
   "version": "3.6.7"
  }
 },
 "nbformat": 4,
 "nbformat_minor": 2
}
