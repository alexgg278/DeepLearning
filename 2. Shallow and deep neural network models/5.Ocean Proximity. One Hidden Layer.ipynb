{
 "cells": [
  {
   "cell_type": "markdown",
   "metadata": {},
   "source": [
    "# Ocean Proximity with one-hidden layer neural networks"
   ]
  },
  {
   "cell_type": "code",
   "execution_count": 1,
   "metadata": {},
   "outputs": [],
   "source": [
    "import numpy as np\n",
    "import pandas as pd\n",
    "import tensorflow as tf\n",
    "import matplotlib.pyplot as plt\n",
    "from tqdm import tqdm"
   ]
  },
  {
   "cell_type": "code",
   "execution_count": 2,
   "metadata": {},
   "outputs": [
    {
     "name": "stdout",
     "output_type": "stream",
     "text": [
      "Name of the label file: OceanProximityOneHotEncodedClasses.csv\n",
      "x_train: (16342, 9)\n",
      "t_train: (16342, 4)\n",
      "x_dev: (2043, 9)\n",
      "t_dev: (2043, 4)\n",
      "x_test: (2043, 9)\n",
      "t_test: (2043, 4)\n"
     ]
    }
   ],
   "source": [
    "%run 1.ReadingData.py"
   ]
  },
  {
   "cell_type": "markdown",
   "metadata": {},
   "source": [
    "## Initialization"
   ]
  },
  {
   "cell_type": "code",
   "execution_count": 3,
   "metadata": {},
   "outputs": [],
   "source": [
    "INPUTS = x_train.shape[1]\n",
    "OUTPUTS = t_train.shape[1]\n",
    "NUM_TRAINING_EXAMPLES = int(round(x_train.shape[0]/1))\n",
    "NUM_DEV_EXAMPLES = int (round (x_dev.shape[0]/1))"
   ]
  },
  {
   "cell_type": "markdown",
   "metadata": {},
   "source": [
    "Some data is displayed to test correctness:"
   ]
  },
  {
   "cell_type": "code",
   "execution_count": 4,
   "metadata": {},
   "outputs": [
    {
     "data": {
      "text/plain": [
       "9"
      ]
     },
     "execution_count": 4,
     "metadata": {},
     "output_type": "execute_result"
    }
   ],
   "source": [
    "INPUTS"
   ]
  },
  {
   "cell_type": "code",
   "execution_count": 5,
   "metadata": {
    "scrolled": true
   },
   "outputs": [
    {
     "data": {
      "text/plain": [
       "4"
      ]
     },
     "execution_count": 5,
     "metadata": {},
     "output_type": "execute_result"
    }
   ],
   "source": [
    "OUTPUTS"
   ]
  },
  {
   "cell_type": "code",
   "execution_count": 6,
   "metadata": {},
   "outputs": [
    {
     "data": {
      "text/plain": [
       "16342"
      ]
     },
     "execution_count": 6,
     "metadata": {},
     "output_type": "execute_result"
    }
   ],
   "source": [
    "NUM_TRAINING_EXAMPLES"
   ]
  },
  {
   "cell_type": "code",
   "execution_count": 7,
   "metadata": {},
   "outputs": [
    {
     "data": {
      "text/plain": [
       "2043"
      ]
     },
     "execution_count": 7,
     "metadata": {},
     "output_type": "execute_result"
    }
   ],
   "source": [
    "NUM_DEV_EXAMPLES"
   ]
  },
  {
   "cell_type": "code",
   "execution_count": 8,
   "metadata": {},
   "outputs": [
    {
     "data": {
      "text/plain": [
       "array([[ 0.42031873, -0.66206164, -0.64705882, -0.69739051, -0.58752328,\n",
       "        -0.82056672, -0.61914159, -0.69639039, -0.60742018],\n",
       "       [ 0.43027888, -0.98087141, -0.01960784, -0.91784933, -0.91371819,\n",
       "        -0.84629614, -0.91810557, -0.58127474, -0.78350192],\n",
       "       [ 0.26294821, -0.72582359, -0.1372549 , -0.94485986, -0.91713222,\n",
       "        -0.95392248, -0.91810557, -0.72952097, -0.15628802],\n",
       "       [-0.44621514, -0.05632306, -0.49019608, -0.73401495, -0.74674115,\n",
       "        -0.85251829, -0.73754317, -0.3834154 ,  0.09195838],\n",
       "       [-0.39243028,  0.16471838, -0.41176471, -0.86189532, -0.80757294,\n",
       "        -0.81277502, -0.78885052, -0.7176039 , -0.62350258]])"
      ]
     },
     "execution_count": 8,
     "metadata": {},
     "output_type": "execute_result"
    }
   ],
   "source": [
    "x_train[:5]"
   ]
  },
  {
   "cell_type": "code",
   "execution_count": 9,
   "metadata": {},
   "outputs": [
    {
     "data": {
      "text/plain": [
       "array([[0., 1., 0., 0.],\n",
       "       [0., 0., 0., 1.],\n",
       "       [1., 0., 0., 0.],\n",
       "       [0., 1., 0., 0.],\n",
       "       [0., 1., 0., 0.]])"
      ]
     },
     "execution_count": 9,
     "metadata": {},
     "output_type": "execute_result"
    }
   ],
   "source": [
    "t_train[:5]"
   ]
  },
  {
   "cell_type": "code",
   "execution_count": 10,
   "metadata": {},
   "outputs": [
    {
     "data": {
      "text/plain": [
       "array([[-0.07171315, -0.10733262, -0.1372549 , -0.89343303, -0.88081937,\n",
       "        -0.94910171, -0.86712712, -0.58443332, -0.56041006],\n",
       "       [-0.4123506 , -0.18384697,  0.49019608, -0.88371738, -0.83612663,\n",
       "        -0.91894392, -0.86548265, -0.60979849, -0.27587515],\n",
       "       [-0.61952191,  0.11583422,  1.        , -0.9123048 , -0.88112973,\n",
       "        -0.96575016, -0.88324289, -0.56120605,  0.99999588],\n",
       "       [ 0.45418327, -0.9957492 , -0.17647059, -0.88961799, -0.82557418,\n",
       "        -0.88531069, -0.82798882, -0.79089944, -0.48742067],\n",
       "       [ 0.15338645, -0.64930925,  0.33333333, -0.96032352, -0.95561763,\n",
       "        -0.97634463, -0.95428383, -0.31657494, -0.23133925]])"
      ]
     },
     "execution_count": 10,
     "metadata": {},
     "output_type": "execute_result"
    }
   ],
   "source": [
    "x_dev[:5]"
   ]
  },
  {
   "cell_type": "code",
   "execution_count": 11,
   "metadata": {},
   "outputs": [
    {
     "data": {
      "text/plain": [
       "array([[0., 1., 0., 0.],\n",
       "       [1., 0., 0., 0.],\n",
       "       [0., 0., 1., 0.],\n",
       "       [0., 0., 0., 1.],\n",
       "       [1., 0., 0., 0.]])"
      ]
     },
     "execution_count": 11,
     "metadata": {},
     "output_type": "execute_result"
    }
   ],
   "source": [
    "t_dev[:5]"
   ]
  },
  {
   "cell_type": "markdown",
   "metadata": {},
   "source": [
    "## Hyperparameters"
   ]
  },
  {
   "cell_type": "markdown",
   "metadata": {},
   "source": [
    "A new hiperparameter has to be adjuted: the number of neurons in the hidden layer"
   ]
  },
  {
   "cell_type": "code",
   "execution_count": 12,
   "metadata": {},
   "outputs": [],
   "source": [
    "n_epochs = 10000 \n",
    "learning_rate = 0.1\n",
    "batch_size = 200\n",
    "n_hidden = 1024"
   ]
  },
  {
   "cell_type": "markdown",
   "metadata": {},
   "source": [
    "## Build the model: a full-connected 9-1024-4 neural network architecture"
   ]
  },
  {
   "cell_type": "code",
   "execution_count": 13,
   "metadata": {},
   "outputs": [],
   "source": [
    "X = tf.placeholder (dtype=tf.float32, shape=(None,INPUTS),name=\"X\")\n",
    "t = tf.placeholder (dtype=tf.float32, shape=(None,OUTPUTS), name=\"t\")"
   ]
  },
  {
   "cell_type": "markdown",
   "metadata": {},
   "source": [
    "A classical neural network topology is defined: X is the input, 200 neurons in the hidden layer with <b>tanh activation function</b>, and 10 outputs with the softmax activation function."
   ]
  },
  {
   "cell_type": "code",
   "execution_count": 14,
   "metadata": {},
   "outputs": [],
   "source": [
    "hidden = tf.layers.dense (X, n_hidden, activation = tf.nn.tanh, name=\"hidden\")\n",
    "net_out = tf.layers.dense (hidden, OUTPUTS, name=\"net_out\")\n",
    "y = tf.nn.softmax (logits=net_out, name=\"y\")"
   ]
  },
  {
   "cell_type": "markdown",
   "metadata": {},
   "source": [
    "The $log-loss$, $cross-entropy$ (the sun of log-loss is a loss) and and $cost$ (the mean of cross-entropy) functions:"
   ]
  },
  {
   "cell_type": "code",
   "execution_count": 15,
   "metadata": {},
   "outputs": [],
   "source": [
    "cross_entropy = tf.nn.softmax_cross_entropy_with_logits_v2 (labels=t, logits=net_out)\n",
    "mean_log_loss = tf.reduce_mean (cross_entropy, name=\"cost\")"
   ]
  },
  {
   "cell_type": "markdown",
   "metadata": {},
   "source": [
    "The training algorithm: gradient descent method with a softmax function at the outputs:"
   ]
  },
  {
   "cell_type": "code",
   "execution_count": 16,
   "metadata": {},
   "outputs": [],
   "source": [
    "train_step = tf.train.GradientDescentOptimizer (learning_rate).minimize(mean_log_loss)"
   ]
  },
  {
   "cell_type": "markdown",
   "metadata": {},
   "source": [
    "Model evaluation: accuracy. The percentage of correctly classified instances."
   ]
  },
  {
   "cell_type": "code",
   "execution_count": 17,
   "metadata": {},
   "outputs": [],
   "source": [
    "correct_predictions = tf.equal(tf.argmax(y,1),tf.argmax(t,1))\n",
    "accuracy = tf.reduce_mean(tf.cast(correct_predictions,tf.float32))"
   ]
  },
  {
   "cell_type": "markdown",
   "metadata": {},
   "source": [
    "## Execute the model MBDG"
   ]
  },
  {
   "cell_type": "code",
   "execution_count": 18,
   "metadata": {},
   "outputs": [
    {
     "name": "stderr",
     "output_type": "stream",
     "text": [
      "100%|██████████| 10000/10000 [02:56<00:00, 57.48it/s]\n"
     ]
    }
   ],
   "source": [
    "init = tf.global_variables_initializer()\n",
    "accuracy_train_history = []\n",
    "with tf.Session() as sess:\n",
    "    sess.run(init)\n",
    "    for epoch in tqdm(range(n_epochs)):\n",
    "        offset = (epoch * batch_size) % (NUM_TRAINING_EXAMPLES - batch_size)\n",
    "        sess.run (train_step, feed_dict={X: x_train[offset:(offset+batch_size)],\n",
    "                                         t: t_train[offset:(offset+batch_size)]})\n",
    "        accuracy_train_history.append (accuracy.eval(feed_dict=\n",
    "                                {X: x_train[offset:(offset+batch_size)],\n",
    "                                 t: t_train[offset:(offset+batch_size)]}))\n",
    "    accuracy_train = accuracy.eval(feed_dict={X: x_train[:NUM_TRAINING_EXAMPLES],\n",
    "                                              t: t_train[:NUM_TRAINING_EXAMPLES]})\n",
    "    accuracy_dev = accuracy.eval(feed_dict={X: x_dev[:NUM_DEV_EXAMPLES],\n",
    "                                              t: t_dev[:NUM_DEV_EXAMPLES]})\n",
    "    predictions = y.eval(feed_dict={X: x_dev[:NUM_DEV_EXAMPLES]})\n",
    "    final_correct_preditions = correct_predictions.eval (feed_dict=\n",
    "                                    {X: x_dev[:NUM_DEV_EXAMPLES],\n",
    "                                     t: t_dev[:NUM_DEV_EXAMPLES]})\n",
    "    final_train_mean_log_loss = mean_log_loss.eval (feed_dict=\n",
    "                                            {X: x_train[:NUM_TRAINING_EXAMPLES],\n",
    "                                              t: t_train[:NUM_TRAINING_EXAMPLES]})\n",
    "    final_dev_mean_log_loss = mean_log_loss.eval (feed_dict=\n",
    "                                            {X: x_dev[:NUM_DEV_EXAMPLES],\n",
    "                                              t: t_dev[:NUM_DEV_EXAMPLES]})"
   ]
  },
  {
   "cell_type": "code",
   "execution_count": 19,
   "metadata": {},
   "outputs": [
    {
     "data": {
      "text/plain": [
       "'Final accuracy in training: 0.86690736'"
      ]
     },
     "execution_count": 19,
     "metadata": {},
     "output_type": "execute_result"
    }
   ],
   "source": [
    "\"Final accuracy in training: \" + str(accuracy_train)"
   ]
  },
  {
   "cell_type": "code",
   "execution_count": 20,
   "metadata": {},
   "outputs": [
    {
     "data": {
      "text/plain": [
       "'Maximum accuracy in training: 0.94'"
      ]
     },
     "execution_count": 20,
     "metadata": {},
     "output_type": "execute_result"
    }
   ],
   "source": [
    "\"Maximum accuracy in training: \" + str(np.max(accuracy_train_history))"
   ]
  },
  {
   "cell_type": "code",
   "execution_count": 21,
   "metadata": {},
   "outputs": [
    {
     "data": {
      "text/plain": [
       "'Accuracy for the development set: 0.86882037'"
      ]
     },
     "execution_count": 21,
     "metadata": {},
     "output_type": "execute_result"
    }
   ],
   "source": [
    "\"Accuracy for the development set: \" + str(accuracy_dev)"
   ]
  },
  {
   "cell_type": "code",
   "execution_count": 22,
   "metadata": {
    "scrolled": true
   },
   "outputs": [
    {
     "data": {
      "text/plain": [
       "[<matplotlib.lines.Line2D at 0xb28ebe7f0>]"
      ]
     },
     "execution_count": 22,
     "metadata": {},
     "output_type": "execute_result"
    },
    {
     "data": {
      "image/png": "[encoded data removed]",
      "text/plain": [
       "<Figure size 432x288 with 1 Axes>"
      ]
     },
     "metadata": {
      "needs_background": "light"
     },
     "output_type": "display_data"
    }
   ],
   "source": [
    "plt.title (\"Accuracy Evolution\")\n",
    "plt.xlabel (\"Epochs\")\n",
    "plt.ylabel (\"Accuracy\")\n",
    "plt.plot (range(n_epochs),accuracy_train_history)"
   ]
  },
  {
   "cell_type": "markdown",
   "metadata": {},
   "source": [
    "Note that accuracy $zig$-$zags$ due to mini-batch $zig$-$zagging$ errors, yet the trend is positive.  "
   ]
  },
  {
   "cell_type": "code",
   "execution_count": 23,
   "metadata": {},
   "outputs": [
    {
     "data": {
      "text/plain": [
       "array([[2.8358586e-06, 9.9999607e-01, 1.0803618e-06, 1.3063440e-12],\n",
       "       [4.7512901e-01, 1.7212782e-04, 1.1902060e-01, 4.0567827e-01],\n",
       "       [2.9780855e-02, 2.0806327e-04, 6.3425231e-01, 3.3575881e-01],\n",
       "       ...,\n",
       "       [6.2122315e-01, 4.9600946e-03, 1.8369439e-01, 1.9012237e-01],\n",
       "       [4.3160281e-01, 2.6565066e-02, 5.3385204e-01, 7.9800533e-03],\n",
       "       [9.3746078e-01, 4.3941315e-02, 3.4436624e-04, 1.8253641e-02]],\n",
       "      dtype=float32)"
      ]
     },
     "execution_count": 23,
     "metadata": {},
     "output_type": "execute_result"
    }
   ],
   "source": [
    "predictions"
   ]
  },
  {
   "cell_type": "code",
   "execution_count": 24,
   "metadata": {},
   "outputs": [
    {
     "data": {
      "text/plain": [
       "array([[0., 1., 0., 0.],\n",
       "       [1., 0., 0., 0.],\n",
       "       [0., 0., 1., 0.],\n",
       "       [0., 0., 0., 1.],\n",
       "       [1., 0., 0., 0.],\n",
       "       [1., 0., 0., 0.],\n",
       "       [1., 0., 0., 0.],\n",
       "       [1., 0., 0., 0.],\n",
       "       [0., 1., 0., 0.],\n",
       "       [0., 1., 0., 0.]], dtype=float32)"
      ]
     },
     "execution_count": 24,
     "metadata": {},
     "output_type": "execute_result"
    }
   ],
   "source": [
    "rounded_predictions=np.round(predictions)\n",
    "indices = np.argmax(predictions,1)\n",
    "for row, index in zip(rounded_predictions, indices): row[index]=1\n",
    "rounded_predictions[:10]"
   ]
  },
  {
   "cell_type": "code",
   "execution_count": 25,
   "metadata": {},
   "outputs": [
    {
     "data": {
      "text/plain": [
       "array([[0., 1., 0., 0.],\n",
       "       [1., 0., 0., 0.],\n",
       "       [0., 0., 1., 0.],\n",
       "       [0., 0., 0., 1.],\n",
       "       [1., 0., 0., 0.],\n",
       "       [1., 0., 0., 0.],\n",
       "       [1., 0., 0., 0.],\n",
       "       [1., 0., 0., 0.],\n",
       "       [0., 1., 0., 0.],\n",
       "       [0., 1., 0., 0.]])"
      ]
     },
     "execution_count": 25,
     "metadata": {},
     "output_type": "execute_result"
    }
   ],
   "source": [
    "t_dev[:10]"
   ]
  },
  {
   "cell_type": "code",
   "execution_count": 26,
   "metadata": {},
   "outputs": [
    {
     "data": {
      "text/plain": [
       "array([ True,  True,  True,  True,  True,  True,  True,  True,  True,\n",
       "        True])"
      ]
     },
     "execution_count": 26,
     "metadata": {},
     "output_type": "execute_result"
    }
   ],
   "source": [
    "final_correct_preditions[:10]"
   ]
  },
  {
   "cell_type": "code",
   "execution_count": 27,
   "metadata": {},
   "outputs": [
    {
     "data": {
      "text/plain": [
       "0.33502594"
      ]
     },
     "execution_count": 27,
     "metadata": {},
     "output_type": "execute_result"
    }
   ],
   "source": [
    "final_train_mean_log_loss"
   ]
  },
  {
   "cell_type": "code",
   "execution_count": 28,
   "metadata": {},
   "outputs": [
    {
     "data": {
      "text/plain": [
       "0.33095166"
      ]
     },
     "execution_count": 28,
     "metadata": {},
     "output_type": "execute_result"
    }
   ],
   "source": [
    "final_dev_mean_log_loss"
   ]
  },
  {
   "cell_type": "markdown",
   "metadata": {},
   "source": [
    "<b>Train accuracy is now 87% and dev accuracy has raised to 87%</b>. This means that the neural model is not overfitted. Time spent is about 3 minutes, even though mini-batch gradient descent has been applied. Back propagation makes intensive vectorial computation. Thus, the need of a GPU. "
   ]
  }
 ],
 "metadata": {
  "kernelspec": {
   "display_name": "Python 3",
   "language": "python",
   "name": "python3"
  },
  "language_info": {
   "codemirror_mode": {
    "name": "ipython",
    "version": 3
   },
   "file_extension": ".py",
   "mimetype": "text/x-python",
   "name": "python",
   "nbconvert_exporter": "python",
   "pygments_lexer": "ipython3",
   "version": "3.6.7"
  }
 },
 "nbformat": 4,
 "nbformat_minor": 2
}
