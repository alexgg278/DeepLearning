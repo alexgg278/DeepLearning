{
 "cells": [
  {
   "cell_type": "markdown",
   "metadata": {},
   "source": [
    "# Ocean Proximity with deep artificial neural networks"
   ]
  },
  {
   "cell_type": "markdown",
   "metadata": {},
   "source": [
    "The vanishing gradient problem: cumulative back-propagated error signals either shrink rapidly, or grow out of bounds. They decay exponentially in the number of layers, or they explode. The result is that the final trained network converges to a poor local minimum."
   ]
  },
  {
   "cell_type": "markdown",
   "metadata": {},
   "source": [
    "Activation (non-linear) functions that do not saturate:<br>\n",
    "Rectifier Linear Unit, ReLU: $y=max(0,x)$, $y \\in [0,\\infty]$, learning rate $\\alpha \\rightarrow 0$<br>\n",
    "Leaky ReLU: $y=max(s·x,x)$ , typically $s=0.01$<br>\n",
    "Exponential Linear Unit, ELU: $y=s(e^{x}-1$), usually $s=1$. if $s=1$, then $y \\in [-1,\\infty]$ "
   ]
  },
  {
   "cell_type": "code",
   "execution_count": 1,
   "metadata": {},
   "outputs": [],
   "source": [
    "import numpy as np\n",
    "import pandas as pd\n",
    "import tensorflow as tf\n",
    "import matplotlib.pyplot as plt\n",
    "from tqdm import tqdm"
   ]
  },
  {
   "cell_type": "code",
   "execution_count": 2,
   "metadata": {},
   "outputs": [
    {
     "name": "stdout",
     "output_type": "stream",
     "text": [
      "Name of the label file: OceanProximityOneHotEncodedClasses.csv\n",
      "x_train: (16342, 9)\n",
      "t_train: (16342, 4)\n",
      "x_dev: (2043, 9)\n",
      "t_dev: (2043, 4)\n",
      "x_test: (2043, 9)\n",
      "t_test: (2043, 4)\n"
     ]
    }
   ],
   "source": [
    "%run 1.ReadingData.py"
   ]
  },
  {
   "cell_type": "markdown",
   "metadata": {},
   "source": [
    "## Initialization"
   ]
  },
  {
   "cell_type": "code",
   "execution_count": 3,
   "metadata": {},
   "outputs": [],
   "source": [
    "INPUTS = x_train.shape[1]\n",
    "OUTPUTS = t_train.shape[1]\n",
    "NUM_TRAINING_EXAMPLES = int(round(x_train.shape[0]/1))\n",
    "NUM_DEV_EXAMPLES = int (round (x_dev.shape[0]/1))\n",
    "NUM_TEST_EXAMPLES = int (round (x_test.shape[0]/1))"
   ]
  },
  {
   "cell_type": "markdown",
   "metadata": {},
   "source": [
    "Some data is displayed to test correctness:"
   ]
  },
  {
   "cell_type": "code",
   "execution_count": 4,
   "metadata": {},
   "outputs": [
    {
     "data": {
      "text/plain": [
       "9"
      ]
     },
     "execution_count": 4,
     "metadata": {},
     "output_type": "execute_result"
    }
   ],
   "source": [
    "INPUTS"
   ]
  },
  {
   "cell_type": "code",
   "execution_count": 5,
   "metadata": {
    "scrolled": true
   },
   "outputs": [
    {
     "data": {
      "text/plain": [
       "4"
      ]
     },
     "execution_count": 5,
     "metadata": {},
     "output_type": "execute_result"
    }
   ],
   "source": [
    "OUTPUTS"
   ]
  },
  {
   "cell_type": "code",
   "execution_count": 6,
   "metadata": {},
   "outputs": [
    {
     "data": {
      "text/plain": [
       "16342"
      ]
     },
     "execution_count": 6,
     "metadata": {},
     "output_type": "execute_result"
    }
   ],
   "source": [
    "NUM_TRAINING_EXAMPLES"
   ]
  },
  {
   "cell_type": "code",
   "execution_count": 7,
   "metadata": {},
   "outputs": [
    {
     "data": {
      "text/plain": [
       "2043"
      ]
     },
     "execution_count": 7,
     "metadata": {},
     "output_type": "execute_result"
    }
   ],
   "source": [
    "NUM_DEV_EXAMPLES"
   ]
  },
  {
   "cell_type": "code",
   "execution_count": 8,
   "metadata": {},
   "outputs": [
    {
     "data": {
      "text/plain": [
       "array([[ 0.42031873, -0.66206164, -0.64705882, -0.69739051, -0.58752328,\n",
       "        -0.82056672, -0.61914159, -0.69639039, -0.60742018],\n",
       "       [ 0.43027888, -0.98087141, -0.01960784, -0.91784933, -0.91371819,\n",
       "        -0.84629614, -0.91810557, -0.58127474, -0.78350192],\n",
       "       [ 0.26294821, -0.72582359, -0.1372549 , -0.94485986, -0.91713222,\n",
       "        -0.95392248, -0.91810557, -0.72952097, -0.15628802],\n",
       "       [-0.44621514, -0.05632306, -0.49019608, -0.73401495, -0.74674115,\n",
       "        -0.85251829, -0.73754317, -0.3834154 ,  0.09195838],\n",
       "       [-0.39243028,  0.16471838, -0.41176471, -0.86189532, -0.80757294,\n",
       "        -0.81277502, -0.78885052, -0.7176039 , -0.62350258]])"
      ]
     },
     "execution_count": 8,
     "metadata": {},
     "output_type": "execute_result"
    }
   ],
   "source": [
    "x_train[:5]"
   ]
  },
  {
   "cell_type": "code",
   "execution_count": 9,
   "metadata": {},
   "outputs": [
    {
     "data": {
      "text/plain": [
       "array([[0., 1., 0., 0.],\n",
       "       [0., 0., 0., 1.],\n",
       "       [1., 0., 0., 0.],\n",
       "       [0., 1., 0., 0.],\n",
       "       [0., 1., 0., 0.]])"
      ]
     },
     "execution_count": 9,
     "metadata": {},
     "output_type": "execute_result"
    }
   ],
   "source": [
    "t_train[:5]"
   ]
  },
  {
   "cell_type": "code",
   "execution_count": 10,
   "metadata": {},
   "outputs": [
    {
     "data": {
      "text/plain": [
       "array([[-0.07171315, -0.10733262, -0.1372549 , -0.89343303, -0.88081937,\n",
       "        -0.94910171, -0.86712712, -0.58443332, -0.56041006],\n",
       "       [-0.4123506 , -0.18384697,  0.49019608, -0.88371738, -0.83612663,\n",
       "        -0.91894392, -0.86548265, -0.60979849, -0.27587515],\n",
       "       [-0.61952191,  0.11583422,  1.        , -0.9123048 , -0.88112973,\n",
       "        -0.96575016, -0.88324289, -0.56120605,  0.99999588],\n",
       "       [ 0.45418327, -0.9957492 , -0.17647059, -0.88961799, -0.82557418,\n",
       "        -0.88531069, -0.82798882, -0.79089944, -0.48742067],\n",
       "       [ 0.15338645, -0.64930925,  0.33333333, -0.96032352, -0.95561763,\n",
       "        -0.97634463, -0.95428383, -0.31657494, -0.23133925]])"
      ]
     },
     "execution_count": 10,
     "metadata": {},
     "output_type": "execute_result"
    }
   ],
   "source": [
    "x_dev[:5]"
   ]
  },
  {
   "cell_type": "code",
   "execution_count": 11,
   "metadata": {},
   "outputs": [
    {
     "data": {
      "text/plain": [
       "array([[0., 1., 0., 0.],\n",
       "       [1., 0., 0., 0.],\n",
       "       [0., 0., 1., 0.],\n",
       "       [0., 0., 0., 1.],\n",
       "       [1., 0., 0., 0.]])"
      ]
     },
     "execution_count": 11,
     "metadata": {},
     "output_type": "execute_result"
    }
   ],
   "source": [
    "t_dev[:5]"
   ]
  },
  {
   "cell_type": "markdown",
   "metadata": {},
   "source": [
    "## Hyperparameters"
   ]
  },
  {
   "cell_type": "markdown",
   "metadata": {},
   "source": [
    "The number of hidden layers and neurons per layer must be adjusted."
   ]
  },
  {
   "cell_type": "code",
   "execution_count": 12,
   "metadata": {},
   "outputs": [],
   "source": [
    "n_epochs = 20000 \n",
    "learning_rate = 0.1\n",
    "batch_size = 200\n",
    "n_neurons_per_layer = [150,75,25,10] "
   ]
  },
  {
   "cell_type": "markdown",
   "metadata": {},
   "source": [
    "## Build the model: a 9-150-75-25-10-4 deep neural network architecture"
   ]
  },
  {
   "cell_type": "code",
   "execution_count": 13,
   "metadata": {},
   "outputs": [],
   "source": [
    "X = tf.placeholder (dtype=tf.float32, shape=(None,INPUTS),name=\"X\")\n",
    "t = tf.placeholder (dtype=tf.float32, shape=(None,OUTPUTS), name=\"t\")"
   ]
  },
  {
   "cell_type": "markdown",
   "metadata": {},
   "source": [
    "The deep neural network topology is defined: a full-connected 9-150-75-25-10-4 architecture. The <b>ReLU</b> activation function is chosen for the hidden layers and linear logits with <b>softmax for the ouput layer</b>. "
   ]
  },
  {
   "cell_type": "code",
   "execution_count": 14,
   "metadata": {},
   "outputs": [],
   "source": [
    "hidden_layers = []\n",
    "hidden_layers.append(tf.layers.dense (X, n_neurons_per_layer[0], \n",
    "                                      activation = tf.nn.relu))\n",
    "for layer in range(1,len(n_neurons_per_layer)):\n",
    "    hidden_layers.append(tf.layers.dense (hidden_layers[layer-1], \n",
    "                    n_neurons_per_layer[layer], activation = tf.nn.relu))\n",
    "net_out = tf.layers.dense (hidden_layers[len(n_neurons_per_layer)-1], OUTPUTS)\n",
    "y = tf.nn.softmax (logits=net_out, name=\"y\")"
   ]
  },
  {
   "cell_type": "code",
   "execution_count": 15,
   "metadata": {},
   "outputs": [
    {
     "name": "stdout",
     "output_type": "stream",
     "text": [
      "Tensor(\"dense/Relu:0\", shape=(?, 150), dtype=float32)\n",
      "Tensor(\"dense_1/Relu:0\", shape=(?, 75), dtype=float32)\n",
      "Tensor(\"dense_2/Relu:0\", shape=(?, 25), dtype=float32)\n",
      "Tensor(\"dense_3/Relu:0\", shape=(?, 10), dtype=float32)\n"
     ]
    }
   ],
   "source": [
    "for layer in range(len(n_neurons_per_layer)): print (hidden_layers[layer])"
   ]
  },
  {
   "cell_type": "markdown",
   "metadata": {},
   "source": [
    "The $log-loss$, $cross-entropy$ (the sun of log-loss is a loss) and and $cost$ (the mean of cross-entropy) functions:"
   ]
  },
  {
   "cell_type": "code",
   "execution_count": 16,
   "metadata": {},
   "outputs": [],
   "source": [
    "cross_entropy = tf.nn.softmax_cross_entropy_with_logits_v2 (labels=t, logits=net_out)\n",
    "mean_log_loss = tf.reduce_mean (cross_entropy, name=\"cost\")"
   ]
  },
  {
   "cell_type": "markdown",
   "metadata": {},
   "source": [
    "The training algorithm: gradient descent method with a softmax function at the outputs:"
   ]
  },
  {
   "cell_type": "code",
   "execution_count": 17,
   "metadata": {},
   "outputs": [],
   "source": [
    "train_step = tf.train.GradientDescentOptimizer (learning_rate).minimize(mean_log_loss)"
   ]
  },
  {
   "cell_type": "markdown",
   "metadata": {},
   "source": [
    "Model evaluation: accuracy. The percentage of correctly classified instances."
   ]
  },
  {
   "cell_type": "code",
   "execution_count": 18,
   "metadata": {},
   "outputs": [],
   "source": [
    "correct_predictions = tf.equal(tf.argmax(y,1),tf.argmax(t,1))\n",
    "accuracy = tf.reduce_mean(tf.cast(correct_predictions,tf.float32))"
   ]
  },
  {
   "cell_type": "markdown",
   "metadata": {},
   "source": [
    "## Execute the 9-150-75-25-10-4 deep neural network with M-BGD"
   ]
  },
  {
   "cell_type": "code",
   "execution_count": 19,
   "metadata": {},
   "outputs": [
    {
     "name": "stderr",
     "output_type": "stream",
     "text": [
      "100%|██████████| 20000/20000 [04:37<00:00, 72.17it/s]\n"
     ]
    }
   ],
   "source": [
    "init = tf.global_variables_initializer()\n",
    "accuracy_train_history = []\n",
    "with tf.Session() as sess:\n",
    "    sess.run(init)\n",
    "    for epoch in tqdm(range(n_epochs)):\n",
    "        offset = (epoch * batch_size) % (NUM_TRAINING_EXAMPLES - batch_size)\n",
    "        sess.run (train_step, feed_dict={X: x_train[offset:(offset+batch_size)],\n",
    "                                         t: t_train[offset:(offset+batch_size)]})\n",
    "        accuracy_train_history.append (accuracy.eval(feed_dict=\n",
    "                                {X: x_train[offset:(offset+batch_size)],\n",
    "                                 t: t_train[offset:(offset+batch_size)]}))\n",
    "    accuracy_train = accuracy.eval(feed_dict={X: x_train[:NUM_TRAINING_EXAMPLES],\n",
    "                                              t: t_train[:NUM_TRAINING_EXAMPLES]})\n",
    "    accuracy_dev = accuracy.eval(feed_dict={X: x_dev[:NUM_DEV_EXAMPLES],\n",
    "                                              t: t_dev[:NUM_DEV_EXAMPLES]})\n",
    "    \n",
    "    dev_predictions = y.eval(feed_dict={X: x_dev[:NUM_DEV_EXAMPLES]})\n",
    "    dev_correct_preditions = correct_predictions.eval (feed_dict=\n",
    "                                    {X: x_dev[:NUM_DEV_EXAMPLES],\n",
    "                                     t: t_dev[:NUM_DEV_EXAMPLES]})\n",
    "    train_mean_log_loss = mean_log_loss.eval (feed_dict=\n",
    "                                            {X: x_train[:NUM_TRAINING_EXAMPLES],\n",
    "                                              t: t_train[:NUM_TRAINING_EXAMPLES]})\n",
    "    dev_mean_log_loss = mean_log_loss.eval (feed_dict=\n",
    "                                            {X: x_dev[:NUM_DEV_EXAMPLES],\n",
    "                                              t: t_dev[:NUM_DEV_EXAMPLES]})"
   ]
  },
  {
   "cell_type": "code",
   "execution_count": 20,
   "metadata": {},
   "outputs": [
    {
     "data": {
      "text/plain": [
       "'Accuracy in training: 0.95275974'"
      ]
     },
     "execution_count": 20,
     "metadata": {},
     "output_type": "execute_result"
    }
   ],
   "source": [
    "\"Accuracy in training: \" + str(accuracy_train)"
   ]
  },
  {
   "cell_type": "code",
   "execution_count": 21,
   "metadata": {},
   "outputs": [
    {
     "data": {
      "text/plain": [
       "'Maximum accuracy in training: 1.0'"
      ]
     },
     "execution_count": 21,
     "metadata": {},
     "output_type": "execute_result"
    }
   ],
   "source": [
    "\"Maximum accuracy in training: \" + str(np.max(accuracy_train_history))"
   ]
  },
  {
   "cell_type": "code",
   "execution_count": 22,
   "metadata": {
    "scrolled": true
   },
   "outputs": [
    {
     "data": {
      "text/plain": [
       "'Accuracy for the development set: 0.9402839'"
      ]
     },
     "execution_count": 22,
     "metadata": {},
     "output_type": "execute_result"
    }
   ],
   "source": [
    "\"Accuracy for the development set: \" + str(accuracy_dev)"
   ]
  },
  {
   "cell_type": "code",
   "execution_count": 23,
   "metadata": {
    "scrolled": true
   },
   "outputs": [
    {
     "data": {
      "text/plain": [
       "[<matplotlib.lines.Line2D at 0xb33b1b0b8>]"
      ]
     },
     "execution_count": 23,
     "metadata": {},
     "output_type": "execute_result"
    },
    {
     "data": {
      "image/png": "[encoded data removed]",
      "text/plain": [
       "<Figure size 432x288 with 1 Axes>"
      ]
     },
     "metadata": {
      "needs_background": "light"
     },
     "output_type": "display_data"
    }
   ],
   "source": [
    "plt.title (\"Accuracy Evolution\")\n",
    "plt.xlabel (\"Epochs\")\n",
    "plt.ylabel (\"Accuracy\")\n",
    "plt.plot (range(n_epochs),accuracy_train_history)"
   ]
  },
  {
   "cell_type": "code",
   "execution_count": 24,
   "metadata": {},
   "outputs": [
    {
     "data": {
      "text/plain": [
       "array([[0., 1., 0., 0.],\n",
       "       [1., 0., 0., 0.],\n",
       "       [0., 0., 1., 0.],\n",
       "       [0., 0., 0., 1.],\n",
       "       [1., 0., 0., 0.],\n",
       "       [1., 0., 0., 0.],\n",
       "       [1., 0., 0., 0.],\n",
       "       [1., 0., 0., 0.],\n",
       "       [0., 1., 0., 0.],\n",
       "       [0., 1., 0., 0.]], dtype=float32)"
      ]
     },
     "execution_count": 24,
     "metadata": {},
     "output_type": "execute_result"
    }
   ],
   "source": [
    "dev_rounded_predictions=np.round(dev_predictions)\n",
    "indices = np.argmax(dev_predictions,1)\n",
    "for row, index in zip(dev_rounded_predictions, indices): row[index]=1\n",
    "dev_rounded_predictions[:10]"
   ]
  },
  {
   "cell_type": "code",
   "execution_count": 25,
   "metadata": {},
   "outputs": [
    {
     "data": {
      "text/plain": [
       "array([[0., 1., 0., 0.],\n",
       "       [1., 0., 0., 0.],\n",
       "       [0., 0., 1., 0.],\n",
       "       [0., 0., 0., 1.],\n",
       "       [1., 0., 0., 0.],\n",
       "       [1., 0., 0., 0.],\n",
       "       [1., 0., 0., 0.],\n",
       "       [1., 0., 0., 0.],\n",
       "       [0., 1., 0., 0.],\n",
       "       [0., 1., 0., 0.]])"
      ]
     },
     "execution_count": 25,
     "metadata": {},
     "output_type": "execute_result"
    }
   ],
   "source": [
    "t_dev[:10] #target classes"
   ]
  },
  {
   "cell_type": "code",
   "execution_count": 26,
   "metadata": {},
   "outputs": [
    {
     "data": {
      "text/plain": [
       "array([ True,  True,  True,  True,  True,  True,  True,  True,  True,\n",
       "        True])"
      ]
     },
     "execution_count": 26,
     "metadata": {},
     "output_type": "execute_result"
    }
   ],
   "source": [
    "dev_correct_preditions[:10]"
   ]
  },
  {
   "cell_type": "code",
   "execution_count": 27,
   "metadata": {},
   "outputs": [
    {
     "data": {
      "text/plain": [
       "0.11265695"
      ]
     },
     "execution_count": 27,
     "metadata": {},
     "output_type": "execute_result"
    }
   ],
   "source": [
    "train_mean_log_loss"
   ]
  },
  {
   "cell_type": "code",
   "execution_count": 28,
   "metadata": {},
   "outputs": [
    {
     "data": {
      "text/plain": [
       "0.14140332"
      ]
     },
     "execution_count": 28,
     "metadata": {},
     "output_type": "execute_result"
    }
   ],
   "source": [
    "dev_mean_log_loss"
   ]
  },
  {
   "cell_type": "markdown",
   "metadata": {},
   "source": [
    "<b>Development accuracy has been raised to 94%</b>. Better results have been achieved using 260 hidden neurons than using a one-hidden layer of 1024 units."
   ]
  },
  {
   "cell_type": "markdown",
   "metadata": {},
   "source": [
    "<b>NOTE:</b> This neural model can be improved by adding deep learning techniques, tuning the hyperparameters defined in section <b>1.2 Hyperparameters</b> and re-training the neural network until a satisfying model is achieved. Finally, the best architecture must be tested against the final test set.   "
   ]
  }
 ],
 "metadata": {
  "kernelspec": {
   "display_name": "Python 3",
   "language": "python",
   "name": "python3"
  },
  "language_info": {
   "codemirror_mode": {
    "name": "ipython",
    "version": 3
   },
   "file_extension": ".py",
   "mimetype": "text/x-python",
   "name": "python",
   "nbconvert_exporter": "python",
   "pygments_lexer": "ipython3",
   "version": "3.6.7"
  }
 },
 "nbformat": 4,
 "nbformat_minor": 2
}
