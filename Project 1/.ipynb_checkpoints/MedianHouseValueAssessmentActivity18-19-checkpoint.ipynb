{
 "cells": [
  {
   "cell_type": "markdown",
   "metadata": {},
   "source": [
    "# Median House Value Assesment Activity"
   ]
  },
  {
   "cell_type": "markdown",
   "metadata": {},
   "source": [
    "This California Housing Prices dataset has been downloaded from StatLib repository (http://lib.stat.cmu.edu/datasets/). It is based on data from the 1990 California census, what is not important for deep learning. The original dataset appeared in R. Kelley Pace and Ronald Barry, “Sparse Spatial Autoregressions,” Statistics & Probability Letters 33, no. 3 (1997): 291–297."
   ]
  },
  {
   "cell_type": "markdown",
   "metadata": {},
   "source": [
    "<b>MedianHouseValuePreparedCleanAttributes.csv</b><br>The original dataset contained 20,640 instances, which is cleaned, preprocessed and prepared in this notebook. After this phase of data preparation, a final dataset of 20,433 instances are obtained with 8 attributes individually normalized with a min-max scaling, $\\frac{x-min}{max-min}$ (InputsMedianHouseValueNormalized.csv): $longitude$ and $latitude$ (location), $median age$, $total rooms$, $total bedrooms$, $population$, $households$ and $median income$.  "
   ]
  },
  {
   "cell_type": "markdown",
   "metadata": {},
   "source": [
    "From this data, the classification problem consists on estimating the median house value, categorized into the following 10 clases (price intervals in thousand dollards): [15.0, 82.3], [82.4, 107.3], [107.4, 133.9], [134.0, 157.3], [157.4, 179.7], [179.8, 209.4], [209.5, 241.9], [242.0, 290.0], [290.1, 376.6] and [376.7, 500.0]. Each class is labelled from 0 (the cheapest) to 9 (the most expensive), and one-hot encoded in <b>MedianHouseValueOneHotEncodedClasses.csv</b> file."
   ]
  },
  {
   "cell_type": "code",
   "execution_count": 1,
   "metadata": {},
   "outputs": [],
   "source": [
    "import numpy as np\n",
    "import pandas as pd\n",
    "import tensorflow as tf\n",
    "import matplotlib.pyplot as plt\n",
    "from tqdm import tqdm"
   ]
  },
  {
   "cell_type": "code",
   "execution_count": 2,
   "metadata": {},
   "outputs": [
    {
     "name": "stdout",
     "output_type": "stream",
     "text": [
      "x_train: (16346, 8)\n",
      "t_train: (16346, 10)\n",
      "x_dev: (2043, 8)\n",
      "t_dev: (2043, 10)\n",
      "x_test: (2044, 8)\n",
      "t_test: (2044, 10)\n"
     ]
    }
   ],
   "source": [
    "%run 1.ReadingData.py"
   ]
  },
  {
   "cell_type": "markdown",
   "metadata": {},
   "source": [
    "## Initialization"
   ]
  },
  {
   "cell_type": "code",
   "execution_count": 3,
   "metadata": {},
   "outputs": [],
   "source": [
    "INPUTS = x_train.shape[1]\n",
    "OUTPUTS = t_train.shape[1]\n",
    "NUM_TRAINING_EXAMPLES = int(round(x_train.shape[0]/1))\n",
    "NUM_DEV_EXAMPLES = int (round (x_dev.shape[0]/1))\n",
    "NUM_TEST_EXAMPLES = int (round (x_test.shape[0]/1))"
   ]
  },
  {
   "cell_type": "markdown",
   "metadata": {},
   "source": [
    "Some data is displayed to test the correctness:"
   ]
  },
  {
   "cell_type": "code",
   "execution_count": null,
   "metadata": {},
   "outputs": [],
   "source": [
    "INPUTS #Should be 8"
   ]
  },
  {
   "cell_type": "code",
   "execution_count": null,
   "metadata": {
    "scrolled": true
   },
   "outputs": [],
   "source": [
    "OUTPUTS #Should be 10"
   ]
  },
  {
   "cell_type": "code",
   "execution_count": null,
   "metadata": {},
   "outputs": [],
   "source": [
    "NUM_TRAINING_EXAMPLES #16346"
   ]
  },
  {
   "cell_type": "code",
   "execution_count": null,
   "metadata": {},
   "outputs": [],
   "source": [
    "NUM_DEV_EXAMPLES #2043"
   ]
  },
  {
   "cell_type": "code",
   "execution_count": null,
   "metadata": {},
   "outputs": [],
   "source": [
    "NUM_TEST_EXAMPLES #2044"
   ]
  },
  {
   "cell_type": "code",
   "execution_count": null,
   "metadata": {},
   "outputs": [],
   "source": [
    "x_train[:5]"
   ]
  },
  {
   "cell_type": "code",
   "execution_count": null,
   "metadata": {},
   "outputs": [],
   "source": [
    "t_train[:5]"
   ]
  },
  {
   "cell_type": "code",
   "execution_count": null,
   "metadata": {},
   "outputs": [],
   "source": [
    "x_dev[:5]"
   ]
  },
  {
   "cell_type": "code",
   "execution_count": null,
   "metadata": {},
   "outputs": [],
   "source": [
    "t_dev[:5]"
   ]
  },
  {
   "cell_type": "code",
   "execution_count": null,
   "metadata": {},
   "outputs": [],
   "source": [
    "x_test[:5]"
   ]
  },
  {
   "cell_type": "code",
   "execution_count": null,
   "metadata": {},
   "outputs": [],
   "source": [
    "t_test[:5]"
   ]
  },
  {
   "cell_type": "code",
   "execution_count": 4,
   "metadata": {},
   "outputs": [
    {
     "name": "stdout",
     "output_type": "stream",
     "text": [
      "<class 'numpy.ndarray'>\n",
      "Training shape: (16346, 8)\n",
      "Training samples:  16346\n",
      "Validation samples:  2044\n"
     ]
    }
   ],
   "source": [
    "print(type(x_train))\n",
    "print('Training shape:', x_train.shape)\n",
    "print('Training samples: ', x_train.shape[0])\n",
    "print('Validation samples: ', x_test.shape[0])"
   ]
  },
  {
   "cell_type": "markdown",
   "metadata": {},
   "source": [
    "## Hyperparameters"
   ]
  },
  {
   "cell_type": "markdown",
   "metadata": {},
   "source": [
    "Some hyperparameters given as example (they may not be the right ones):"
   ]
  },
  {
   "cell_type": "code",
   "execution_count": 5,
   "metadata": {},
   "outputs": [],
   "source": [
    "n_epochs = 5000 \n",
    "learning_rate = 0.1\n",
    "batch_size = 200\n",
    "n_neurons_per_layer = [150,80,40,10] "
   ]
  },
  {
   "cell_type": "code",
   "execution_count": 6,
   "metadata": {},
   "outputs": [],
   "source": [
    "X = tf.placeholder (dtype=tf.float32, shape=(None,INPUTS),name=\"X\")\n",
    "t = tf.placeholder (dtype=tf.float32, shape=(None,OUTPUTS), name=\"t\")"
   ]
  },
  {
   "cell_type": "code",
   "execution_count": 7,
   "metadata": {},
   "outputs": [],
   "source": [
    "hidden_layers = []\n",
    "hidden_layers.append(tf.layers.dense (X, n_neurons_per_layer[0], \n",
    "                                      activation = tf.nn.relu))\n",
    "for layer in range(1,len(n_neurons_per_layer)):\n",
    "    hidden_layers.append(tf.layers.dense (hidden_layers[layer-1], \n",
    "                 n_neurons_per_layer[layer], activation = tf.nn.relu))\n",
    "net_out = tf.layers.dense (hidden_layers[len(n_neurons_per_layer)-1], OUTPUTS)\n",
    "y = tf.nn.softmax (logits=net_out, name=\"y\")"
   ]
  },
  {
   "cell_type": "code",
   "execution_count": 8,
   "metadata": {},
   "outputs": [
    {
     "name": "stdout",
     "output_type": "stream",
     "text": [
      "Tensor(\"dense/Relu:0\", shape=(?, 150), dtype=float32)\n",
      "Tensor(\"dense_1/Relu:0\", shape=(?, 80), dtype=float32)\n",
      "Tensor(\"dense_2/Relu:0\", shape=(?, 40), dtype=float32)\n",
      "Tensor(\"dense_3/Relu:0\", shape=(?, 10), dtype=float32)\n"
     ]
    }
   ],
   "source": [
    "for layer in range(len(n_neurons_per_layer)): print (hidden_layers[layer])"
   ]
  },
  {
   "cell_type": "code",
   "execution_count": 9,
   "metadata": {},
   "outputs": [],
   "source": [
    "cross_entropy = tf.nn.softmax_cross_entropy_with_logits_v2 (labels=t, logits=net_out)\n",
    "mean_log_loss = tf.reduce_mean (cross_entropy, name=\"cost\")"
   ]
  },
  {
   "cell_type": "code",
   "execution_count": 13,
   "metadata": {},
   "outputs": [],
   "source": [
    "train_step = tf.train.GradientDescentOptimizer (learning_rate).minimize(mean_log_loss)"
   ]
  },
  {
   "cell_type": "code",
   "execution_count": 14,
   "metadata": {},
   "outputs": [],
   "source": [
    "correct_predictions = tf.equal(tf.argmax(y,1),tf.argmax(t,1))\n",
    "accuracy = tf.reduce_mean(tf.cast(correct_predictions,tf.float32))"
   ]
  },
  {
   "cell_type": "code",
   "execution_count": 15,
   "metadata": {
    "collapsed": true
   },
   "outputs": [],
   "source": [
    "initial_learning_rate = 0.1\n",
    "decay_steps = 10000\n",
    "decay_rate = 0.96\n",
    "global_step = tf.Variable(0, trainable=False, name=\"global_step\")\n",
    "learning_rate = tf.train.exponential_decay(initial_learning_rate,\n",
    "global_step, decay_steps,\n",
    "decay_rate)\n",
    "optimizer = tf.train.MomentumOptimizer(learning_rate, momentum=0.9) \n",
    "train_step = optimizer.minimize(mean_log_"
   ]
  },
  {
   "cell_type": "code",
   "execution_count": 16,
   "metadata": {},
   "outputs": [
    {
     "name": "stderr",
     "output_type": "stream",
     "text": [
      "100%|█████████████████████████████████████████████████████████████████████████████| 5000/5000 [00:08<00:00, 585.89it/s]\n"
     ]
    }
   ],
   "source": [
    "init = tf.global_variables_initializer()\n",
    "accuracy_train_history = []\n",
    "with tf.Session() as sess:\n",
    "    sess.run(init)\n",
    "    for epoch in tqdm(range(n_epochs)):\n",
    "        offset = (epoch * batch_size) % (NUM_TRAINING_EXAMPLES - batch_size)\n",
    "        sess.run (train_step, feed_dict={X: x_train[offset:(offset+batch_size)],\n",
    "                                         t: t_train[offset:(offset+batch_size)]})\n",
    "            \n",
    "    accuracy_test = accuracy.eval(feed_dict={X: x_test[:NUM_TEST_EXAMPLES],\n",
    "                                              t: t_test[:NUM_TEST_EXAMPLES]})\n",
    "    test_predictions = y.eval(feed_dict={X: x_test[:NUM_TEST_EXAMPLES]})\n",
    "    \n",
    "    test_correct_preditions = correct_predictions.eval (feed_dict=\n",
    "                                    {X: x_test[:NUM_TEST_EXAMPLES],\n",
    "                                     t: t_test[:NUM_TEST_EXAMPLES]}\n",
    "    )   \n"
   ]
  },
  {
   "cell_type": "code",
   "execution_count": 18,
   "metadata": {},
   "outputs": [
    {
     "data": {
      "text/plain": [
       "'Accuracy for the TEST set: 0.3483366'"
      ]
     },
     "execution_count": 18,
     "metadata": {},
     "output_type": "execute_result"
    }
   ],
   "source": [
    "\"Accuracy for the TEST set: \" + str(accuracy_test)"
   ]
  },
  {
   "cell_type": "code",
   "execution_count": null,
   "metadata": {},
   "outputs": [],
   "source": [
    "tensor_board = TensorBoard('./logs')"
   ]
  },
  {
   "cell_type": "code",
   "execution_count": null,
   "metadata": {},
   "outputs": [],
   "source": [
    "test_predictions"
   ]
  },
  {
   "cell_type": "code",
   "execution_count": null,
   "metadata": {},
   "outputs": [],
   "source": [
    "test_rounded_predictions=np.round(test_predictions)\n",
    "indices = np.argmax(test_predictions,1)\n",
    "for row, index in zip(test_rounded_predictions, indices): row[index]=1\n",
    "test_rounded_predictions[:10]"
   ]
  },
  {
   "cell_type": "code",
   "execution_count": null,
   "metadata": {},
   "outputs": [],
   "source": [
    "test_correct_preditions[:10]"
   ]
  },
  {
   "cell_type": "code",
   "execution_count": null,
   "metadata": {},
   "outputs": [],
   "source": []
  },
  {
   "cell_type": "code",
   "execution_count": null,
   "metadata": {},
   "outputs": [],
   "source": []
  }
 ],
 "metadata": {
  "kernelspec": {
   "display_name": "TensorFlow-GPU-New",
   "language": "python",
   "name": "tf-gpu-new"
  },
  "language_info": {
   "codemirror_mode": {
    "name": "ipython",
    "version": 3
   },
   "file_extension": ".py",
   "mimetype": "text/x-python",
   "name": "python",
   "nbconvert_exporter": "python",
   "pygments_lexer": "ipython3",
   "version": "3.6.8"
  }
 },
 "nbformat": 4,
 "nbformat_minor": 2
}
