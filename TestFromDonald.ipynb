{
 "cells": [
  {
   "cell_type": "code",
   "execution_count": 1,
   "metadata": {},
   "outputs": [
    {
     "name": "stderr",
     "output_type": "stream",
     "text": [
      "Using TensorFlow backend.\n"
     ]
    }
   ],
   "source": [
    "import tensorflow as tf\n",
    "import keras\n",
    "from keras.datasets import mnist\n",
    "from keras.models import Sequential\n",
    "from keras.layers import Dense, Dropout\n",
    "from keras.layers import Flatten,  MaxPooling2D, Conv2D\n",
    "from keras.callbacks import TensorBoard"
   ]
  },
  {
   "cell_type": "code",
   "execution_count": 5,
   "metadata": {},
   "outputs": [
    {
     "name": "stdout",
     "output_type": "stream",
     "text": [
      "Downloading data from https://s3.amazonaws.com/img-datasets/mnist.npz\n",
      "11493376/11490434 [==============================] - 90s 8us/step\n"
     ]
    }
   ],
   "source": [
    "(X_train,y_train), (X_test, y_test) = mnist.load_data()\n",
    "\n",
    "X_train = X_train.reshape(60000,28,28,1).astype('float32')\n",
    "X_test = X_test.reshape(10000,28,28,1).astype('float32')\n",
    "\n",
    "X_train /= 255\n",
    "X_test /= 255\n",
    "\n",
    "n_classes = 10\n",
    "y_train = keras.utils.to_categorical(y_train, n_classes)\n",
    "y_test = keras.utils.to_categorical(y_test, n_classes)"
   ]
  },
  {
   "cell_type": "code",
   "execution_count": 6,
   "metadata": {},
   "outputs": [],
   "source": [
    "model = Sequential()\n",
    "model.add(Conv2D(32, kernel_size=(3,3), activation='relu', input_shape=(28,28,1)) )\n",
    "model.add(Conv2D(64, kernel_size=(3,3), activation='relu'))\n",
    "model.add(MaxPooling2D(pool_size=(2,2)))\n",
    "model.add(Dropout(0.25))\n",
    "model.add(Flatten())          \n",
    "model.add(Dense(128, activation='relu'))\n",
    "model.add(Dropout(0.5))\n",
    "model.add(Dense(n_classes, activation='softmax'))"
   ]
  },
  {
   "cell_type": "code",
   "execution_count": 7,
   "metadata": {},
   "outputs": [],
   "source": [
    "model.compile(loss='categorical_crossentropy', optimizer='adam', metrics=['accuracy'])"
   ]
  },
  {
   "cell_type": "code",
   "execution_count": 8,
   "metadata": {},
   "outputs": [],
   "source": [
    "tensor_board = TensorBoard('./logs/LeNet-MNIST-1')"
   ]
  },
  {
   "cell_type": "code",
   "execution_count": null,
   "metadata": {},
   "outputs": [
    {
     "name": "stdout",
     "output_type": "stream",
     "text": [
      "Train on 60000 samples, validate on 10000 samples\n",
      "Epoch 1/15\n",
      "60000/60000 [==============================] - 10s 169us/step - loss: 0.2415 - acc: 0.9263 - val_loss: 0.0516 - val_acc: 0.9809\n",
      "Epoch 2/15\n",
      "60000/60000 [==============================] - 7s 110us/step - loss: 0.0817 - acc: 0.9763 - val_loss: 0.0388 - val_acc: 0.9878\n",
      "Epoch 3/15\n",
      "60000/60000 [==============================] - 7s 111us/step - loss: 0.0607 - acc: 0.9820 - val_loss: 0.0341 - val_acc: 0.9887\n",
      "Epoch 4/15\n",
      "60000/60000 [==============================] - 7s 118us/step - loss: 0.0507 - acc: 0.9847 - val_loss: 0.0317 - val_acc: 0.9900\n",
      "Epoch 5/15\n",
      "60000/60000 [==============================] - 7s 118us/step - loss: 0.0428 - acc: 0.9867 - val_loss: 0.0289 - val_acc: 0.9903\n",
      "Epoch 6/15\n",
      "60000/60000 [==============================] - 7s 118us/step - loss: 0.0362 - acc: 0.9883 - val_loss: 0.0263 - val_acc: 0.9915\n",
      "Epoch 7/15\n",
      "60000/60000 [==============================] - 7s 113us/step - loss: 0.0343 - acc: 0.9891 - val_loss: 0.0270 - val_acc: 0.9915\n",
      "Epoch 8/15\n",
      "60000/60000 [==============================] - 7s 110us/step - loss: 0.0298 - acc: 0.9906 - val_loss: 0.0289 - val_acc: 0.9915\n",
      "Epoch 9/15\n",
      "60000/60000 [==============================] - 6s 103us/step - loss: 0.0265 - acc: 0.9918 - val_loss: 0.0261 - val_acc: 0.9920\n",
      "Epoch 10/15\n",
      "20608/60000 [=========>....................] - ETA: 3s - loss: 0.0222 - acc: 0.9932"
     ]
    }
   ],
   "source": [
    "model.fit(X_train, y_train, batch_size=128, epochs=15, verbose=1,\n",
    "          validation_data=(X_test,y_test), callbacks=[tensor_board])"
   ]
  },
  {
   "cell_type": "code",
   "execution_count": null,
   "metadata": {},
   "outputs": [],
   "source": []
  }
 ],
 "metadata": {
  "kernelspec": {
   "display_name": "TensorFlow-GPU-New",
   "language": "python",
   "name": "tf-gpu-new"
  },
  "language_info": {
   "codemirror_mode": {
    "name": "ipython",
    "version": 3
   },
   "file_extension": ".py",
   "mimetype": "text/x-python",
   "name": "python",
   "nbconvert_exporter": "python",
   "pygments_lexer": "ipython3",
   "version": "3.6.8"
  }
 },
 "nbformat": 4,
 "nbformat_minor": 2
}
